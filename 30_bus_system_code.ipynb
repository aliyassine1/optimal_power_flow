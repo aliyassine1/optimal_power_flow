{
  "nbformat": 4,
  "nbformat_minor": 0,
  "metadata": {
    "accelerator": "GPU",
    "colab": {
      "name": "Attempt3.ipynb",
      "provenance": [],
      "collapsed_sections": []
    },
    "kernelspec": {
      "display_name": "Python 3",
      "name": "python3"
    }
  },
  "cells": [
    {
      "cell_type": "code",
      "metadata": {
        "id": "Flj3XAengn13"
      },
      "source": [
        "import os\n",
        "import numpy as np\n",
        "import pandas as pd\n",
        "from tqdm import tqdm\n",
        "import seaborn as sns\n",
        "from pylab import rcParams\n",
        "import matplotlib.pyplot as plt\n",
        "from matplotlib import rc\n",
        "from sklearn import metrics\n",
        "from sklearn.model_selection import train_test_split\n",
        "from sklearn.metrics import confusion_matrix, classification_report\n",
        "from torch import nn, optim\n",
        "import torch.nn.functional as F\n",
        "import math"
      ],
      "execution_count": null,
      "outputs": []
    },
    {
      "cell_type": "markdown",
      "metadata": {
        "id": "DH8jG1seg7zT"
      },
      "source": [
        "Case Data"
      ]
    },
    {
      "cell_type": "code",
      "metadata": {
        "id": "7q2VTfQRg6U-",
        "colab": {
          "base_uri": "https://localhost:8080/"
        },
        "outputId": "9e30890a-a907-4cb4-d0dd-59e8a43c943d"
      },
      "source": [
        " pip install PYPOWER #installing PyPower"
      ],
      "execution_count": null,
      "outputs": [
        {
          "output_type": "stream",
          "text": [
            "Requirement already satisfied: PYPOWER in /usr/local/lib/python3.7/dist-packages (5.1.15)\n"
          ],
          "name": "stdout"
        }
      ]
    },
    {
      "cell_type": "code",
      "metadata": {
        "colab": {
          "base_uri": "https://localhost:8080/"
        },
        "id": "V2liXnMErjkp",
        "outputId": "fc273ad7-6ed3-4288-bdef-380f0fc7b945"
      },
      "source": [
        "from pypower.loadcase import loadcase\n",
        "from pypower.makeYbus import makeYbus\n",
        "from pypower import case30\n",
        " \n",
        "case30"
      ],
      "execution_count": null,
      "outputs": [
        {
          "output_type": "execute_result",
          "data": {
            "text/plain": [
              "<module 'pypower.case30' from '/usr/local/lib/python3.7/dist-packages/pypower/case30.py'>"
            ]
          },
          "metadata": {
            "tags": []
          },
          "execution_count": 3
        }
      ]
    },
    {
      "cell_type": "markdown",
      "metadata": {
        "id": "OSEgmcIEtpQJ"
      },
      "source": [
        "Loading the case (case30):"
      ]
    },
    {
      "cell_type": "code",
      "metadata": {
        "id": "Bk40urqFr7-_"
      },
      "source": [
        "from pypower.api import case30, ppoption, runpf, printpf"
      ],
      "execution_count": null,
      "outputs": []
    },
    {
      "cell_type": "markdown",
      "metadata": {
        "id": "WEBX_pNPvoZE"
      },
      "source": [
        "Accessing the Pmin and Pmax from the case and getting the slack bus:"
      ]
    },
    {
      "cell_type": "code",
      "metadata": {
        "colab": {
          "base_uri": "https://localhost:8080/"
        },
        "id": "J8KUwA0yvpbl",
        "outputId": "3c98d87c-90c0-4543-8b8a-becb93efcbc8"
      },
      "source": [
        "ppc = case30()\n",
        "Gen = ppc[\"gen\"]\n",
        "Bus =[]\n",
        "PMax= []\n",
        "PMin=[]\n",
        "i= 0 #iterator over every generator to get the Bus, Pmax , Pmin of the generator\n",
        "\n",
        "while (i!= len(Gen)):\n",
        "  Bus.append(ppc[\"gen\"][i,0])\n",
        "  PMax.append(ppc[\"gen\"][i,8])\n",
        "  PMin.append(ppc[\"gen\"][i,9])\n",
        "  i = i+1\n",
        "\n",
        "Power= pd.DataFrame(columns=['Bus','Pmin','Pmax'])\n",
        "Power['Bus']= Bus\n",
        "Power['Pmin'] = PMin\n",
        "Power['Pmax'] = PMax \n",
        "Power.set_index('Bus')\n",
        "print(Power)\n",
        "#finding the slack bus\n",
        "\n",
        "slack = 0\n",
        "j=0 #iterator over every bus row to check for the bus type\n",
        "while(slack == 0):\n",
        "  if(ppc[\"bus\"][j,1]== 3):\n",
        "    slack = ppc[\"bus\"][j,0]\n",
        "  j +=1\n",
        "print(slack)\n",
        "slack_adapted = int(slack) - 1  \n"
      ],
      "execution_count": null,
      "outputs": [
        {
          "output_type": "stream",
          "text": [
            "    Bus  Pmin  Pmax\n",
            "0   1.0   0.0  80.0\n",
            "1   2.0   0.0  80.0\n",
            "2  22.0   0.0  50.0\n",
            "3  27.0   0.0  55.0\n",
            "4  23.0   0.0  30.0\n",
            "5  13.0   0.0  40.0\n",
            "1.0\n"
          ],
          "name": "stdout"
        }
      ]
    },
    {
      "cell_type": "markdown",
      "metadata": {
        "id": "yul1bJrjxJlI"
      },
      "source": [
        "Getting the admittance matrix:"
      ]
    },
    {
      "cell_type": "code",
      "metadata": {
        "id": "K6EbYy6axMOP"
      },
      "source": [
        "from pypower.ext2int import ext2int\n",
        "from pypower.makeBdc import makeBdc\n",
        "from scipy.sparse import csr_matrix\n",
        "ppc = ext2int(ppc)\n",
        "BInputbaseMVA, BInputbus, BInputbranch = ppc['baseMVA'], ppc['bus'],  ppc['branch']\n",
        "\n",
        "Bbus, Bf, Pbusinj, Pfinj = makeBdc(BInputbaseMVA, BInputbus, BInputbranch)\n",
        "\n",
        "\n",
        "#print(Bbus.shape)\n",
        "#print(Bbus)\n",
        "\n",
        "Bbus = csr_matrix(Bbus).toarray() #convert the csr_matrix into an array \n",
        "#print(Bbus)\n"
      ],
      "execution_count": null,
      "outputs": []
    },
    {
      "cell_type": "markdown",
      "metadata": {
        "id": "L4QSjKmcz-Pd"
      },
      "source": [
        "Importing the Pd, Pg and Va csv files:"
      ]
    },
    {
      "cell_type": "code",
      "metadata": {
        "colab": {
          "resources": {
            "http://localhost:8080/nbextensions/google.colab/files.js": {
              "data": "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",
              "ok": true,
              "headers": [
                [
                  "content-type",
                  "application/javascript"
                ]
              ],
              "status": 200,
              "status_text": ""
            }
          },
          "base_uri": "https://localhost:8080/",
          "height": 38
        },
        "id": "PaatyBHx0UHC",
        "outputId": "0c127c7e-0fbc-4c25-913e-20ce3e66c8e8"
      },
      "source": [
        "from google.colab import files\n",
        "uploaded = files.upload()"
      ],
      "execution_count": null,
      "outputs": [
        {
          "output_type": "display_data",
          "data": {
            "text/html": [
              "\n",
              "     <input type=\"file\" id=\"files-18754ce6-86c1-4f3c-9190-b75990ae9f7b\" name=\"files[]\" multiple disabled\n",
              "        style=\"border:none\" />\n",
              "     <output id=\"result-18754ce6-86c1-4f3c-9190-b75990ae9f7b\">\n",
              "      Upload widget is only available when the cell has been executed in the\n",
              "      current browser session. Please rerun this cell to enable.\n",
              "      </output>\n",
              "      <script src=\"/nbextensions/google.colab/files.js\"></script> "
            ],
            "text/plain": [
              "<IPython.core.display.HTML object>"
            ]
          },
          "metadata": {
            "tags": []
          }
        }
      ]
    },
    {
      "cell_type": "code",
      "metadata": {
        "colab": {
          "base_uri": "https://localhost:8080/"
        },
        "id": "4p_cy-LV1unG",
        "outputId": "8e20c41c-16af-4dc6-d02e-203a2ac7bb54"
      },
      "source": [
        "PDdf = pd.read_csv('Pd (1).csv')\n",
        "PGdf = pd.read_csv('Pg (1).csv')\n",
        "VAdf = pd.read_csv('Va (1).csv')\n",
        "#Successdf = pd.read_csv('Success.csv')\n",
        "print(PGdf)\n",
        "print(PDdf)\n",
        "unNormalizedPD = PDdf\n",
        "unNormalizedPG = PGdf"
      ],
      "execution_count": null,
      "outputs": [
        {
          "output_type": "stream",
          "text": [
            "               1          2         22         27         23         13\n",
            "0      45.048322  58.626653  22.415463  33.089500  16.038657  16.038657\n",
            "1      45.024672  58.599625  22.407895  33.032786  16.019737  16.019737\n",
            "2      44.589249  58.101998  22.268560  31.988605  15.671399  15.671399\n",
            "3      45.067070  58.648080  22.421462  33.134460  16.053656  16.053656\n",
            "4      44.932513  58.494301  22.378404  32.811782  15.946010  15.946010\n",
            "...          ...        ...        ...        ...        ...        ...\n",
            "29995  44.083112  57.523556  22.106596  30.774848  15.266489  15.266489\n",
            "29996  44.957973  58.523398  22.386552  32.872838  15.966379  15.966379\n",
            "29997  44.443008  57.934866  22.221762  31.637908  15.554406  15.554406\n",
            "29998  44.880120  58.434422  22.361638  32.686138  15.904096  15.904096\n",
            "29999  44.620667  58.137906  22.278614  32.063951  15.696534  15.696534\n",
            "\n",
            "[30000 rows x 6 columns]\n",
            "       1          2         3         4  ...  27  28        29         30\n",
            "0      0  21.289671  2.378422  8.256205  ...   0   0  2.620002  10.829769\n",
            "1      0  19.691763  2.295788  7.025998  ...   0   0  2.582973  11.595223\n",
            "2      0  20.738829  2.504887  7.303984  ...   0   0  2.306893  10.625024\n",
            "3      0  22.351219  2.366650  6.935763  ...   0   0  2.233287  10.688378\n",
            "4      0  22.716283  2.282978  8.203915  ...   0   0  2.175675  10.721798\n",
            "...   ..        ...       ...       ...  ...  ..  ..       ...        ...\n",
            "29995  0  19.531424  2.186470  8.166078  ...   0   0  2.186802  11.390469\n",
            "29996  0  23.298239  2.315723  7.872284  ...   0   0  2.283374   9.712380\n",
            "29997  0  21.551218  2.206532  8.013301  ...   0   0  2.205881  10.060534\n",
            "29998  0  23.799229  2.467091  7.440044  ...   0   0  2.489510  10.773934\n",
            "29999  0  19.693576  2.374543  8.352472  ...   0   0  2.269904  10.435535\n",
            "\n",
            "[30000 rows x 30 columns]\n"
          ],
          "name": "stdout"
        }
      ]
    },
    {
      "cell_type": "code",
      "metadata": {
        "colab": {
          "base_uri": "https://localhost:8080/"
        },
        "id": "s-z87u_9ruOb",
        "outputId": "3ea53f9b-2b6a-42b0-dd19-cff50143467c"
      },
      "source": [
        "#Getting PD_maxs and PD_mins for later use\n",
        "PD_maxs = []\n",
        "PD_mins = []\n",
        "it =0\n",
        "for column in PDdf.columns:\n",
        "        if(it!= slack_adapted):\n",
        "          PD_maxs.append(PDdf[column].max()) \n",
        "          PD_mins.append(PDdf[column].min())\n",
        "        it = it +1\n",
        "print(PD_maxs)"
      ],
      "execution_count": null,
      "outputs": [
        {
          "output_type": "stream",
          "text": [
            "[23.8698528748171, 2.6399994635452204, 8.35988878594656, 0, 0, 25.079658171486503, 32.999990925458796, 0, 6.3799923116425195, 0, 12.319969075969901, 0, 6.81993108525692, 9.01999731096113, 3.84999808005221, 9.89987838917731, 3.5199881498812697, 10.449940855323801, 2.41997607914709, 19.2499972280387, 0, 3.51995391395599, 9.56993840391718, 0, 3.8498843797976696, 0, 0, 2.6399850504091003, 11.6599936215336]\n"
          ],
          "name": "stdout"
        }
      ]
    },
    {
      "cell_type": "markdown",
      "metadata": {
        "id": "NQyU33P22CGp"
      },
      "source": [
        "To Per Unit Function"
      ]
    },
    {
      "cell_type": "code",
      "metadata": {
        "id": "NYNCJPRN0WSb"
      },
      "source": [
        "def To_Per_Unit(P):\n",
        "  P = P /  ppc['baseMVA']\n",
        "  return P"
      ],
      "execution_count": null,
      "outputs": []
    },
    {
      "cell_type": "code",
      "metadata": {
        "id": "_NQ1bydQ1_rf"
      },
      "source": [
        "import torch\n",
        "import torch.nn as nn\n",
        "import torch.nn.functional as functional\n",
        "def To_Per_Unit_Torch(P):\n",
        "  N= np.zeros((1,1))\n",
        "  N[0][0] =  ppc['baseMVA']\n",
        "  N = torch.from_numpy(N)\n",
        "  PerUnit = torch.divide(P,N)\n",
        "  return PerUnit\n"
      ],
      "execution_count": null,
      "outputs": []
    },
    {
      "cell_type": "markdown",
      "metadata": {
        "id": "T1Tx0zYD2Ku2"
      },
      "source": [
        "Load sampling and pre-processing"
      ]
    },
    {
      "cell_type": "code",
      "metadata": {
        "colab": {
          "base_uri": "https://localhost:8080/",
          "height": 422
        },
        "id": "aWTrQIhs2SDy",
        "outputId": "c4922ec5-678e-4ecf-aba4-fcc84232ddb8"
      },
      "source": [
        "def normalize(df):\n",
        "    # copy the dataframe\n",
        "    df_norm = df.copy()\n",
        "    # apply min-max scaling\n",
        "    for column in df_norm.columns:\n",
        "        if(df_norm[column].max()!=0):\n",
        "          df_norm[column] = (df_norm[column] - df_norm[column].min()) / (df_norm[column].max() - df_norm[column].min())\n",
        "        \n",
        "    return df_norm\n",
        "\n",
        "PDdf= normalize(PDdf)\n",
        "PDdf\n"
      ],
      "execution_count": null,
      "outputs": [
        {
          "output_type": "execute_result",
          "data": {
            "text/html": [
              "<div>\n",
              "<style scoped>\n",
              "    .dataframe tbody tr th:only-of-type {\n",
              "        vertical-align: middle;\n",
              "    }\n",
              "\n",
              "    .dataframe tbody tr th {\n",
              "        vertical-align: top;\n",
              "    }\n",
              "\n",
              "    .dataframe thead th {\n",
              "        text-align: right;\n",
              "    }\n",
              "</style>\n",
              "<table border=\"1\" class=\"dataframe\">\n",
              "  <thead>\n",
              "    <tr style=\"text-align: right;\">\n",
              "      <th></th>\n",
              "      <th>1</th>\n",
              "      <th>2</th>\n",
              "      <th>3</th>\n",
              "      <th>4</th>\n",
              "      <th>5</th>\n",
              "      <th>6</th>\n",
              "      <th>7</th>\n",
              "      <th>8</th>\n",
              "      <th>9</th>\n",
              "      <th>10</th>\n",
              "      <th>11</th>\n",
              "      <th>12</th>\n",
              "      <th>13</th>\n",
              "      <th>14</th>\n",
              "      <th>15</th>\n",
              "      <th>16</th>\n",
              "      <th>17</th>\n",
              "      <th>18</th>\n",
              "      <th>19</th>\n",
              "      <th>20</th>\n",
              "      <th>21</th>\n",
              "      <th>22</th>\n",
              "      <th>23</th>\n",
              "      <th>24</th>\n",
              "      <th>25</th>\n",
              "      <th>26</th>\n",
              "      <th>27</th>\n",
              "      <th>28</th>\n",
              "      <th>29</th>\n",
              "      <th>30</th>\n",
              "    </tr>\n",
              "  </thead>\n",
              "  <tbody>\n",
              "    <tr>\n",
              "      <th>0</th>\n",
              "      <td>0</td>\n",
              "      <td>0.405466</td>\n",
              "      <td>0.455030</td>\n",
              "      <td>0.931780</td>\n",
              "      <td>0</td>\n",
              "      <td>0</td>\n",
              "      <td>0.149518</td>\n",
              "      <td>0.903991</td>\n",
              "      <td>0</td>\n",
              "      <td>0.304941</td>\n",
              "      <td>0</td>\n",
              "      <td>0.842318</td>\n",
              "      <td>0</td>\n",
              "      <td>0.776178</td>\n",
              "      <td>0.376498</td>\n",
              "      <td>0.805031</td>\n",
              "      <td>0.397707</td>\n",
              "      <td>0.644534</td>\n",
              "      <td>0.502489</td>\n",
              "      <td>0.359326</td>\n",
              "      <td>0.568546</td>\n",
              "      <td>0</td>\n",
              "      <td>0.072207</td>\n",
              "      <td>0.562414</td>\n",
              "      <td>0</td>\n",
              "      <td>0.124925</td>\n",
              "      <td>0</td>\n",
              "      <td>0</td>\n",
              "      <td>0.958366</td>\n",
              "      <td>0.608373</td>\n",
              "    </tr>\n",
              "    <tr>\n",
              "      <th>1</th>\n",
              "      <td>0</td>\n",
              "      <td>0.037271</td>\n",
              "      <td>0.282871</td>\n",
              "      <td>0.122347</td>\n",
              "      <td>0</td>\n",
              "      <td>0</td>\n",
              "      <td>0.461993</td>\n",
              "      <td>0.986580</td>\n",
              "      <td>0</td>\n",
              "      <td>0.188665</td>\n",
              "      <td>0</td>\n",
              "      <td>0.212723</td>\n",
              "      <td>0</td>\n",
              "      <td>0.614888</td>\n",
              "      <td>0.365995</td>\n",
              "      <td>0.825043</td>\n",
              "      <td>0.662669</td>\n",
              "      <td>0.286497</td>\n",
              "      <td>0.714369</td>\n",
              "      <td>0.784793</td>\n",
              "      <td>0.885892</td>\n",
              "      <td>0</td>\n",
              "      <td>0.380749</td>\n",
              "      <td>0.260535</td>\n",
              "      <td>0</td>\n",
              "      <td>0.463682</td>\n",
              "      <td>0</td>\n",
              "      <td>0</td>\n",
              "      <td>0.881221</td>\n",
              "      <td>0.969447</td>\n",
              "    </tr>\n",
              "    <tr>\n",
              "      <th>2</th>\n",
              "      <td>0</td>\n",
              "      <td>0.278539</td>\n",
              "      <td>0.718506</td>\n",
              "      <td>0.305251</td>\n",
              "      <td>0</td>\n",
              "      <td>0</td>\n",
              "      <td>0.488232</td>\n",
              "      <td>0.548334</td>\n",
              "      <td>0</td>\n",
              "      <td>0.603014</td>\n",
              "      <td>0</td>\n",
              "      <td>0.127959</td>\n",
              "      <td>0</td>\n",
              "      <td>0.988418</td>\n",
              "      <td>0.589695</td>\n",
              "      <td>0.202439</td>\n",
              "      <td>0.727080</td>\n",
              "      <td>0.797246</td>\n",
              "      <td>0.351234</td>\n",
              "      <td>0.419713</td>\n",
              "      <td>0.132447</td>\n",
              "      <td>0</td>\n",
              "      <td>0.915423</td>\n",
              "      <td>0.876822</td>\n",
              "      <td>0</td>\n",
              "      <td>0.969615</td>\n",
              "      <td>0</td>\n",
              "      <td>0</td>\n",
              "      <td>0.306033</td>\n",
              "      <td>0.511792</td>\n",
              "    </tr>\n",
              "    <tr>\n",
              "      <th>3</th>\n",
              "      <td>0</td>\n",
              "      <td>0.650072</td>\n",
              "      <td>0.430505</td>\n",
              "      <td>0.062975</td>\n",
              "      <td>0</td>\n",
              "      <td>0</td>\n",
              "      <td>0.629213</td>\n",
              "      <td>0.835281</td>\n",
              "      <td>0</td>\n",
              "      <td>0.926680</td>\n",
              "      <td>0</td>\n",
              "      <td>0.223140</td>\n",
              "      <td>0</td>\n",
              "      <td>0.896679</td>\n",
              "      <td>0.324242</td>\n",
              "      <td>0.445413</td>\n",
              "      <td>0.585058</td>\n",
              "      <td>0.037944</td>\n",
              "      <td>0.826336</td>\n",
              "      <td>0.263218</td>\n",
              "      <td>0.045599</td>\n",
              "      <td>0</td>\n",
              "      <td>0.773981</td>\n",
              "      <td>0.909466</td>\n",
              "      <td>0</td>\n",
              "      <td>0.487792</td>\n",
              "      <td>0</td>\n",
              "      <td>0</td>\n",
              "      <td>0.152683</td>\n",
              "      <td>0.541676</td>\n",
              "    </tr>\n",
              "    <tr>\n",
              "      <th>4</th>\n",
              "      <td>0</td>\n",
              "      <td>0.734191</td>\n",
              "      <td>0.256183</td>\n",
              "      <td>0.897375</td>\n",
              "      <td>0</td>\n",
              "      <td>0</td>\n",
              "      <td>0.251493</td>\n",
              "      <td>0.546152</td>\n",
              "      <td>0</td>\n",
              "      <td>0.123368</td>\n",
              "      <td>0</td>\n",
              "      <td>0.568002</td>\n",
              "      <td>0</td>\n",
              "      <td>0.112751</td>\n",
              "      <td>0.908695</td>\n",
              "      <td>0.929829</td>\n",
              "      <td>0.327422</td>\n",
              "      <td>0.728380</td>\n",
              "      <td>0.770813</td>\n",
              "      <td>0.723061</td>\n",
              "      <td>0.369239</td>\n",
              "      <td>0</td>\n",
              "      <td>0.131879</td>\n",
              "      <td>0.907805</td>\n",
              "      <td>0</td>\n",
              "      <td>0.633857</td>\n",
              "      <td>0</td>\n",
              "      <td>0</td>\n",
              "      <td>0.032652</td>\n",
              "      <td>0.557441</td>\n",
              "    </tr>\n",
              "    <tr>\n",
              "      <th>...</th>\n",
              "      <td>...</td>\n",
              "      <td>...</td>\n",
              "      <td>...</td>\n",
              "      <td>...</td>\n",
              "      <td>...</td>\n",
              "      <td>...</td>\n",
              "      <td>...</td>\n",
              "      <td>...</td>\n",
              "      <td>...</td>\n",
              "      <td>...</td>\n",
              "      <td>...</td>\n",
              "      <td>...</td>\n",
              "      <td>...</td>\n",
              "      <td>...</td>\n",
              "      <td>...</td>\n",
              "      <td>...</td>\n",
              "      <td>...</td>\n",
              "      <td>...</td>\n",
              "      <td>...</td>\n",
              "      <td>...</td>\n",
              "      <td>...</td>\n",
              "      <td>...</td>\n",
              "      <td>...</td>\n",
              "      <td>...</td>\n",
              "      <td>...</td>\n",
              "      <td>...</td>\n",
              "      <td>...</td>\n",
              "      <td>...</td>\n",
              "      <td>...</td>\n",
              "      <td>...</td>\n",
              "    </tr>\n",
              "    <tr>\n",
              "      <th>29995</th>\n",
              "      <td>0</td>\n",
              "      <td>0.000325</td>\n",
              "      <td>0.055119</td>\n",
              "      <td>0.872479</td>\n",
              "      <td>0</td>\n",
              "      <td>0</td>\n",
              "      <td>0.532802</td>\n",
              "      <td>0.057938</td>\n",
              "      <td>0</td>\n",
              "      <td>0.469931</td>\n",
              "      <td>0</td>\n",
              "      <td>0.010664</td>\n",
              "      <td>0</td>\n",
              "      <td>0.645856</td>\n",
              "      <td>0.215552</td>\n",
              "      <td>0.879228</td>\n",
              "      <td>0.731564</td>\n",
              "      <td>0.536613</td>\n",
              "      <td>0.611763</td>\n",
              "      <td>0.934253</td>\n",
              "      <td>0.570274</td>\n",
              "      <td>0</td>\n",
              "      <td>0.217498</td>\n",
              "      <td>0.329987</td>\n",
              "      <td>0</td>\n",
              "      <td>0.644005</td>\n",
              "      <td>0</td>\n",
              "      <td>0</td>\n",
              "      <td>0.055835</td>\n",
              "      <td>0.872862</td>\n",
              "    </tr>\n",
              "    <tr>\n",
              "      <th>29996</th>\n",
              "      <td>0</td>\n",
              "      <td>0.868287</td>\n",
              "      <td>0.324404</td>\n",
              "      <td>0.679173</td>\n",
              "      <td>0</td>\n",
              "      <td>0</td>\n",
              "      <td>0.731200</td>\n",
              "      <td>0.495611</td>\n",
              "      <td>0</td>\n",
              "      <td>0.301600</td>\n",
              "      <td>0</td>\n",
              "      <td>0.452070</td>\n",
              "      <td>0</td>\n",
              "      <td>0.393609</td>\n",
              "      <td>0.742605</td>\n",
              "      <td>0.203990</td>\n",
              "      <td>0.657958</td>\n",
              "      <td>0.079665</td>\n",
              "      <td>0.478537</td>\n",
              "      <td>0.470904</td>\n",
              "      <td>0.181898</td>\n",
              "      <td>0</td>\n",
              "      <td>0.731481</td>\n",
              "      <td>0.970508</td>\n",
              "      <td>0</td>\n",
              "      <td>0.681810</td>\n",
              "      <td>0</td>\n",
              "      <td>0</td>\n",
              "      <td>0.257034</td>\n",
              "      <td>0.081286</td>\n",
              "    </tr>\n",
              "    <tr>\n",
              "      <th>29997</th>\n",
              "      <td>0</td>\n",
              "      <td>0.465733</td>\n",
              "      <td>0.096915</td>\n",
              "      <td>0.771958</td>\n",
              "      <td>0</td>\n",
              "      <td>0</td>\n",
              "      <td>0.443194</td>\n",
              "      <td>0.329889</td>\n",
              "      <td>0</td>\n",
              "      <td>0.277207</td>\n",
              "      <td>0</td>\n",
              "      <td>0.442987</td>\n",
              "      <td>0</td>\n",
              "      <td>0.316981</td>\n",
              "      <td>0.426723</td>\n",
              "      <td>0.131839</td>\n",
              "      <td>0.661742</td>\n",
              "      <td>0.353211</td>\n",
              "      <td>0.466963</td>\n",
              "      <td>0.395928</td>\n",
              "      <td>0.856618</td>\n",
              "      <td>0</td>\n",
              "      <td>0.116118</td>\n",
              "      <td>0.656454</td>\n",
              "      <td>0</td>\n",
              "      <td>0.094506</td>\n",
              "      <td>0</td>\n",
              "      <td>0</td>\n",
              "      <td>0.095585</td>\n",
              "      <td>0.245515</td>\n",
              "    </tr>\n",
              "    <tr>\n",
              "      <th>29998</th>\n",
              "      <td>0</td>\n",
              "      <td>0.983727</td>\n",
              "      <td>0.639763</td>\n",
              "      <td>0.394774</td>\n",
              "      <td>0</td>\n",
              "      <td>0</td>\n",
              "      <td>0.792464</td>\n",
              "      <td>0.282496</td>\n",
              "      <td>0</td>\n",
              "      <td>0.052178</td>\n",
              "      <td>0</td>\n",
              "      <td>0.659800</td>\n",
              "      <td>0</td>\n",
              "      <td>0.269432</td>\n",
              "      <td>0.042118</td>\n",
              "      <td>0.999326</td>\n",
              "      <td>0.311937</td>\n",
              "      <td>0.461021</td>\n",
              "      <td>0.132817</td>\n",
              "      <td>0.091099</td>\n",
              "      <td>0.738241</td>\n",
              "      <td>0</td>\n",
              "      <td>0.537868</td>\n",
              "      <td>0.246211</td>\n",
              "      <td>0</td>\n",
              "      <td>0.993647</td>\n",
              "      <td>0</td>\n",
              "      <td>0</td>\n",
              "      <td>0.686499</td>\n",
              "      <td>0.582034</td>\n",
              "    </tr>\n",
              "    <tr>\n",
              "      <th>29999</th>\n",
              "      <td>0</td>\n",
              "      <td>0.037689</td>\n",
              "      <td>0.446949</td>\n",
              "      <td>0.995120</td>\n",
              "      <td>0</td>\n",
              "      <td>0</td>\n",
              "      <td>0.344793</td>\n",
              "      <td>0.437538</td>\n",
              "      <td>0</td>\n",
              "      <td>0.624537</td>\n",
              "      <td>0</td>\n",
              "      <td>0.486789</td>\n",
              "      <td>0</td>\n",
              "      <td>0.400020</td>\n",
              "      <td>0.638433</td>\n",
              "      <td>0.723998</td>\n",
              "      <td>0.833731</td>\n",
              "      <td>0.872898</td>\n",
              "      <td>0.973966</td>\n",
              "      <td>0.713720</td>\n",
              "      <td>0.526432</td>\n",
              "      <td>0</td>\n",
              "      <td>0.422377</td>\n",
              "      <td>0.360988</td>\n",
              "      <td>0</td>\n",
              "      <td>0.415951</td>\n",
              "      <td>0</td>\n",
              "      <td>0</td>\n",
              "      <td>0.228971</td>\n",
              "      <td>0.422407</td>\n",
              "    </tr>\n",
              "  </tbody>\n",
              "</table>\n",
              "<p>30000 rows × 30 columns</p>\n",
              "</div>"
            ],
            "text/plain": [
              "       1         2         3         4  5  ...        26  27  28        29        30\n",
              "0      0  0.405466  0.455030  0.931780  0  ...  0.124925   0   0  0.958366  0.608373\n",
              "1      0  0.037271  0.282871  0.122347  0  ...  0.463682   0   0  0.881221  0.969447\n",
              "2      0  0.278539  0.718506  0.305251  0  ...  0.969615   0   0  0.306033  0.511792\n",
              "3      0  0.650072  0.430505  0.062975  0  ...  0.487792   0   0  0.152683  0.541676\n",
              "4      0  0.734191  0.256183  0.897375  0  ...  0.633857   0   0  0.032652  0.557441\n",
              "...   ..       ...       ...       ... ..  ...       ...  ..  ..       ...       ...\n",
              "29995  0  0.000325  0.055119  0.872479  0  ...  0.644005   0   0  0.055835  0.872862\n",
              "29996  0  0.868287  0.324404  0.679173  0  ...  0.681810   0   0  0.257034  0.081286\n",
              "29997  0  0.465733  0.096915  0.771958  0  ...  0.094506   0   0  0.095585  0.245515\n",
              "29998  0  0.983727  0.639763  0.394774  0  ...  0.993647   0   0  0.686499  0.582034\n",
              "29999  0  0.037689  0.446949  0.995120  0  ...  0.415951   0   0  0.228971  0.422407\n",
              "\n",
              "[30000 rows x 30 columns]"
            ]
          },
          "metadata": {
            "tags": []
          },
          "execution_count": 12
        }
      ]
    },
    {
      "cell_type": "markdown",
      "metadata": {
        "id": "7Rqw5yWo34QI"
      },
      "source": [
        "*Linear transformation and mapping dimension reduction*\n"
      ]
    },
    {
      "cell_type": "code",
      "metadata": {
        "colab": {
          "base_uri": "https://localhost:8080/"
        },
        "id": "gPHOyOhyD2HU",
        "outputId": "12011a33-d227-4f17-c5bc-ae8365997bdd"
      },
      "source": [
        "def getslackindex(PGdf):\n",
        "  PGdf2=PGdf.copy()\n",
        "  titles=list(PGdf2.columns)\n",
        "  strslack=str(int(slack))\n",
        "  temp=0\n",
        "  t=0\n",
        "  for i in range(len(titles)):\n",
        "    if(titles[i]==strslack):\n",
        "      temp1=titles[i]\n",
        "      t=i\n",
        "  return t\n",
        "\n",
        "print(getslackindex(PGdf))"
      ],
      "execution_count": null,
      "outputs": [
        {
          "output_type": "stream",
          "text": [
            "0\n"
          ],
          "name": "stdout"
        }
      ]
    },
    {
      "cell_type": "code",
      "metadata": {
        "id": "HXUOsvwy34YG",
        "colab": {
          "base_uri": "https://localhost:8080/"
        },
        "outputId": "36b49f88-bb6c-4ba0-9e71-4de636932a17"
      },
      "source": [
        "\n",
        "def GetAlphafromPG(PGdf):\n",
        "  Alpha = PGdf.copy()\n",
        "  i = 0\n",
        "  for column in PGdf: \n",
        "    Alpha[column] = Alpha[column] - Power.at[i, \"Pmin\"]\n",
        "    Alpha[column] = Alpha[column]/ (Power.at[i, \"Pmax\"]- Power.at[i, \"Pmin\"])\n",
        "    Pmax=Power.at[i,\"Pmax\"]  \n",
        "    print(Pmax)\n",
        "    i= i+1    \n",
        "  return Alpha\n",
        "\n",
        "def GetAlphafromPGws(PGdf):\n",
        "  t=getslackindex(PGdf)\n",
        "  Alpha = PGdf.copy()\n",
        "  i = 0\n",
        "  #find x get x\n",
        "  \n",
        "  for column in PGdf: \n",
        "\n",
        "    Alpha[column] = Alpha[column] - Power.at[i+1, \"Pmin\"]\n",
        "    Alpha[column] = Alpha[column]/ (Power.at[i+1, \"Pmax\"]- Power.at[i+1, \"Pmin\"])\n",
        "    Pmax=Power.at[i+1,\"Pmax\"]   \n",
        "    print(Pmax)  \n",
        "    i = i+1\n",
        "      \n",
        "      \n",
        "  return Alpha\n",
        "\n",
        "\n",
        "def GetPGfromAlpha(Alpha):\n",
        "  i = 0\n",
        "  PG = Alpha.copy()\n",
        "  for column in PG:\n",
        "    PG[column] = PG[column]* (Power.at[i, \"Pmax\"]- Power.at[i, \"Pmin\"])\n",
        "    PG[column] = PG[column] + Power.at[i, \"Pmin\"]\n",
        "    i= i+1\n",
        "  return PG\n",
        "\n",
        "def GetPGfromAlphaws(Alpha):\n",
        "  t=getslackindex(PGdf)\n",
        "  PG  = Alpha.copy()\n",
        "  i = 0\n",
        "  j = 0\n",
        "  for column in PGdf:\n",
        "    if(i == t):\n",
        "      i = i + 1\n",
        "    else:\n",
        "      PG[j] = PG[j]* (Power.at[i, \"Pmax\"]- Power.at[i, \"Pmin\"])\n",
        "      PG[j] = PG[j] + Power.at[i, \"Pmin\"]\n",
        "      i= i+1\n",
        "      j = j+1\n",
        "  return PG\n",
        "\n",
        "slackstring = str(int(slack))\n",
        "PGdf_ws=PGdf.drop(labels= slackstring , axis=1,inplace=False)\n",
        "print(GetAlphafromPG(PGdf))\n",
        "print(GetAlphafromPGws(PGdf_ws))"
      ],
      "execution_count": null,
      "outputs": [
        {
          "output_type": "stream",
          "text": [
            "80.0\n",
            "80.0\n",
            "50.0\n",
            "55.0\n",
            "30.0\n",
            "40.0\n",
            "              1         2        22        27        23        13\n",
            "0      0.563104  0.732833  0.448309  0.601627  0.534622  0.400966\n",
            "1      0.562808  0.732495  0.448158  0.600596  0.533991  0.400493\n",
            "2      0.557366  0.726275  0.445371  0.581611  0.522380  0.391785\n",
            "3      0.563338  0.733101  0.448429  0.602445  0.535122  0.401341\n",
            "4      0.561656  0.731179  0.447568  0.596578  0.531534  0.398650\n",
            "...         ...       ...       ...       ...       ...       ...\n",
            "29995  0.551039  0.719044  0.442132  0.559543  0.508883  0.381662\n",
            "29996  0.561975  0.731542  0.447731  0.597688  0.532213  0.399159\n",
            "29997  0.555538  0.724186  0.444435  0.575235  0.518480  0.388860\n",
            "29998  0.561001  0.730430  0.447233  0.594293  0.530137  0.397602\n",
            "29999  0.557758  0.726724  0.445572  0.582981  0.523218  0.392413\n",
            "\n",
            "[30000 rows x 6 columns]\n",
            "80.0\n",
            "50.0\n",
            "55.0\n",
            "30.0\n",
            "40.0\n",
            "              2        22        27        23        13\n",
            "0      0.732833  0.448309  0.601627  0.534622  0.400966\n",
            "1      0.732495  0.448158  0.600596  0.533991  0.400493\n",
            "2      0.726275  0.445371  0.581611  0.522380  0.391785\n",
            "3      0.733101  0.448429  0.602445  0.535122  0.401341\n",
            "4      0.731179  0.447568  0.596578  0.531534  0.398650\n",
            "...         ...       ...       ...       ...       ...\n",
            "29995  0.719044  0.442132  0.559543  0.508883  0.381662\n",
            "29996  0.731542  0.447731  0.597688  0.532213  0.399159\n",
            "29997  0.724186  0.444435  0.575235  0.518480  0.388860\n",
            "29998  0.730430  0.447233  0.594293  0.530137  0.397602\n",
            "29999  0.726724  0.445572  0.582981  0.523218  0.392413\n",
            "\n",
            "[30000 rows x 5 columns]\n"
          ],
          "name": "stdout"
        }
      ]
    },
    {
      "cell_type": "markdown",
      "metadata": {
        "id": "COqytp1x5U_t"
      },
      "source": [
        "Removing the slack bus from  PD , PG:"
      ]
    },
    {
      "cell_type": "code",
      "metadata": {
        "colab": {
          "base_uri": "https://localhost:8080/"
        },
        "id": "KP3TZI-2ALTy",
        "outputId": "5ab9aff8-53c5-4497-f50f-7832348bcc79"
      },
      "source": [
        "slackstring = str(int(slack))\n",
        "PDdf_ws=PDdf.drop(labels= slackstring , axis=1,inplace=False)\n",
        "print(PDdf_ws) #PD without slack\n",
        "PGdf_ws=PGdf.drop(labels= slackstring , axis=1,inplace=False)\n",
        "print(PGdf_ws) #PG without slack\n",
        "# PG NOT ALPHAC HERE CARFUL\n",
        "unNormalizedPD_ws = unNormalizedPD.drop(labels= slackstring , axis=1,inplace=False)\n",
        "#unNormalizedPG_ws = unNormalizedPG.drop(labels= slackstring , axis=1,inplace=False)\n",
        "\n",
        "\n",
        "\n"
      ],
      "execution_count": null,
      "outputs": [
        {
          "output_type": "stream",
          "text": [
            "              2         3         4  5  6  ...        26  27  28        29        30\n",
            "0      0.405466  0.455030  0.931780  0  0  ...  0.124925   0   0  0.958366  0.608373\n",
            "1      0.037271  0.282871  0.122347  0  0  ...  0.463682   0   0  0.881221  0.969447\n",
            "2      0.278539  0.718506  0.305251  0  0  ...  0.969615   0   0  0.306033  0.511792\n",
            "3      0.650072  0.430505  0.062975  0  0  ...  0.487792   0   0  0.152683  0.541676\n",
            "4      0.734191  0.256183  0.897375  0  0  ...  0.633857   0   0  0.032652  0.557441\n",
            "...         ...       ...       ... .. ..  ...       ...  ..  ..       ...       ...\n",
            "29995  0.000325  0.055119  0.872479  0  0  ...  0.644005   0   0  0.055835  0.872862\n",
            "29996  0.868287  0.324404  0.679173  0  0  ...  0.681810   0   0  0.257034  0.081286\n",
            "29997  0.465733  0.096915  0.771958  0  0  ...  0.094506   0   0  0.095585  0.245515\n",
            "29998  0.983727  0.639763  0.394774  0  0  ...  0.993647   0   0  0.686499  0.582034\n",
            "29999  0.037689  0.446949  0.995120  0  0  ...  0.415951   0   0  0.228971  0.422407\n",
            "\n",
            "[30000 rows x 29 columns]\n",
            "               2         22         27         23         13\n",
            "0      58.626653  22.415463  33.089500  16.038657  16.038657\n",
            "1      58.599625  22.407895  33.032786  16.019737  16.019737\n",
            "2      58.101998  22.268560  31.988605  15.671399  15.671399\n",
            "3      58.648080  22.421462  33.134460  16.053656  16.053656\n",
            "4      58.494301  22.378404  32.811782  15.946010  15.946010\n",
            "...          ...        ...        ...        ...        ...\n",
            "29995  57.523556  22.106596  30.774848  15.266489  15.266489\n",
            "29996  58.523398  22.386552  32.872838  15.966379  15.966379\n",
            "29997  57.934866  22.221762  31.637908  15.554406  15.554406\n",
            "29998  58.434422  22.361638  32.686138  15.904096  15.904096\n",
            "29999  58.137906  22.278614  32.063951  15.696534  15.696534\n",
            "\n",
            "[30000 rows x 5 columns]\n"
          ],
          "name": "stdout"
        }
      ]
    },
    {
      "cell_type": "markdown",
      "metadata": {
        "id": "BD1bGcgpAUv7"
      },
      "source": [
        "Removing the slack bus from admittance matrix:"
      ]
    },
    {
      "cell_type": "code",
      "metadata": {
        "id": "DbhmkHK7BgTx"
      },
      "source": [
        "slack_adapted = int(slack) - 1  \n",
        "B_tilda = np.delete(Bbus, slack_adapted,0) \n",
        "B_tilda = np.delete(B_tilda, slack_adapted,1)"
      ],
      "execution_count": null,
      "outputs": []
    },
    {
      "cell_type": "markdown",
      "metadata": {
        "id": "gCrICTa4Bt7i"
      },
      "source": [
        "Getting the Phase Angle (without the slack bus), for uploaded values"
      ]
    },
    {
      "cell_type": "code",
      "metadata": {
        "id": "oX-p-u2qIfL-"
      },
      "source": [
        "def Get_B_Matrix_Inverse():\n",
        "  BInputbaseMVA, BInputbus, BInputbranch = ppc['baseMVA'], ppc['bus'],  ppc['branch']\n",
        "  Bbus, Bf, Pbusinj, Pfinj = makeBdc(BInputbaseMVA, BInputbus, BInputbranch)\n",
        "  Bbus = csr_matrix(Bbus).toarray()\n",
        "  slack_adapted = int(slack) - 1   \n",
        "  B_tilda = np.delete(Bbus, slack_adapted,0) \n",
        "  B_tilda = np.delete(B_tilda, slack_adapted,1)\n",
        "\n",
        "  #First need to invert the admittance matrix found previously\n",
        "  B_inverse = np.linalg.inv(B_tilda) \n",
        "  return B_inverse "
      ],
      "execution_count": null,
      "outputs": []
    },
    {
      "cell_type": "code",
      "metadata": {
        "colab": {
          "base_uri": "https://localhost:8080/"
        },
        "id": "K2qViqGMHWqG",
        "outputId": "c4e2516c-762b-429e-de41-6650b42ac025"
      },
      "source": [
        "def Get_Phase_Angles(PG, unNormalizedPD_ws):\n",
        "  \n",
        "  BInputbaseMVA, BInputbus, BInputbranch = ppc['baseMVA'], ppc['bus'],  ppc['branch']\n",
        "  Bbus, Bf, Pbusinj, Pfinj = makeBdc(BInputbaseMVA, BInputbus, BInputbranch)\n",
        "  Bbus = csr_matrix(Bbus).toarray()\n",
        "  slack_adapted = int(slack) - 1   \n",
        "  B_tilda = np.delete(Bbus, slack_adapted,0) \n",
        "  B_tilda = np.delete(B_tilda, slack_adapted,1)\n",
        "\n",
        "  #First need to invert the admittance matrix found previously\n",
        "  B_inverse = np.linalg.inv(B_tilda) \n",
        "  #print(\"B inverse:\")\n",
        "  #print(B_inverse)\n",
        "  PDtemp = unNormalizedPD_ws.copy() # for this formula we need the unnormalized PD\n",
        "  #preparing the PG matrix\n",
        "  PG_full = pd.DataFrame(np.zeros(PDtemp.shape), columns = PDtemp.columns.tolist()) \n",
        "  PG_gen_list = PG.columns.tolist()\n",
        "  for col in PG_full.columns:\n",
        "    if col in PG_gen_list:\n",
        "      PG_full[col].values[:] = PG[col].values[:] \n",
        "\n",
        "  #Preparing PD and PG\n",
        "  PDtemp= To_Per_Unit(PDtemp) #turning PDs into per unit value\n",
        "  PG_full= To_Per_Unit(PG_full) #turning the P generated values\n",
        "  PDtemp = np.transpose(pd.DataFrame.to_numpy(PDtemp)) #transposing to have the buses as the rows and the cases as the columns\n",
        "  PG_full= np.transpose(pd.DataFrame.to_numpy(PG_full)) #transposing to have the buses as the rows and the cases as the columns\n",
        "\n",
        "  #getting the difference between PG and PD\n",
        "  Difference = PG_full - PDtemp \n",
        "  #getting the angles in degrees\n",
        "  Angles =(180/math.pi)*np.matmul(B_inverse,Difference)\n",
        "\n",
        "  return Angles\n",
        "Angles0 = Get_Phase_Angles(PGdf_ws, unNormalizedPD_ws)\n",
        "print(Angles0)"
      ],
      "execution_count": null,
      "outputs": [
        {
          "output_type": "stream",
          "text": [
            "[[-0.79461668 -0.7897442  -0.78675782 ... -0.78937454 -0.81253821\n",
            "  -0.77802032]\n",
            " [-2.38776338 -2.40061833 -2.36267415 ... -2.33846783 -2.31270106\n",
            "  -2.39376324]\n",
            " [-2.835941   -2.85339607 -2.80267147 ... -2.78020687 -2.74304393\n",
            "  -2.84329288]\n",
            " ...\n",
            " [-3.22935222 -3.30811868 -3.21508947 ... -3.1572901  -3.12040524\n",
            "  -3.22810976]\n",
            " [-2.89907019 -3.18240777 -2.98744725 ... -2.76193018 -2.81297204\n",
            "  -2.91485982]\n",
            " [-3.84575916 -4.2123786  -3.9356549  ... -3.65817364 -3.76339781\n",
            "  -3.84585096]]\n"
          ],
          "name": "stdout"
        }
      ]
    },
    {
      "cell_type": "markdown",
      "metadata": {
        "id": "8pEFjSllKxIt"
      },
      "source": [
        "Getting the Phase Angle (with Slack)"
      ]
    },
    {
      "cell_type": "code",
      "metadata": {
        "id": "DETuMiPHKwfR"
      },
      "source": [
        "def getAnglesWithSlack(Angles):\n",
        "  #We have to add 0s for the slack's phase angle \n",
        "  numberofrowsA , numberofcolumnsA= Angles.shape \n",
        "  numberofcolumnsA = numberofcolumnsA\n",
        "  slackangles = [[0]*numberofcolumnsA]\n",
        "  #print(slackangles)\n",
        "  #np.append(Angles,slackangles,0)\n",
        "  Angles = np.insert(Angles, int(slack_adapted) , slackangles , 0)\n",
        "  return Angles\n",
        "#Angles0 = getAnglesWithSlack(Angles0)\n",
        "#print(Angles0)\n",
        "#print(getAnglesWithSlack(Angles))\n"
      ],
      "execution_count": null,
      "outputs": []
    },
    {
      "cell_type": "markdown",
      "metadata": {
        "id": "qr68reeJO5Pd"
      },
      "source": [
        "Loss Functions:\n",
        "Getting LPG:\n"
      ]
    },
    {
      "cell_type": "code",
      "metadata": {
        "id": "5dNa10pLO9zM",
        "colab": {
          "base_uri": "https://localhost:8080/"
        },
        "outputId": "5e94813f-8f91-498f-88d9-b120eb439477"
      },
      "source": [
        "#Penalty Function\n",
        "def penalty(x):\n",
        "  p = np.square(x) - 1\n",
        "  return p\n",
        "\n",
        "#A Matrix Function\n",
        "def createAmatrix():\n",
        "  n1, m1 = ppc['bus'].shape\n",
        "  n2, m2 = ppc['branch'].shape\n",
        "  A = np.empty((n2,n1))\n",
        "  A[:] = 0\n",
        "  Adf = pd.DataFrame(A)\n",
        "  for row in range(len(Adf)):\n",
        "    Adf[ppc['branch'][row][0]][row]= 1/ ((ppc['branch'][row][3]) * (To_Per_Unit(ppc['branch'][row][5]))) #ai = 1/ xij Pijmax and ask prof jabr if the power in pu or angles in degrees or radiant \n",
        "    Adf[ppc['branch'][row][1]][row]= -1 / ((ppc['branch'][row][3]) * (To_Per_Unit(ppc['branch'][row][5]))) #aj = - 1/ xij Pijmax \n",
        "  A = pd.DataFrame(Adf).to_numpy(dtype= 'float')\n",
        "  return A\n",
        "print(createAmatrix())"
      ],
      "execution_count": null,
      "outputs": [
        {
          "output_type": "stream",
          "text": [
            "[[ 12.82051282 -12.82051282   0.         ...   0.           0.\n",
            "    0.        ]\n",
            " [  4.048583     0.          -4.048583   ...   0.           0.\n",
            "    0.        ]\n",
            " [  0.           9.04977376   0.         ...   0.           0.\n",
            "    0.        ]\n",
            " ...\n",
            " [  0.           0.           0.         ...   0.          13.88888889\n",
            "  -13.88888889]\n",
            " [  0.           0.           0.         ... -15.625        0.\n",
            "    0.        ]\n",
            " [  0.           0.           0.         ... -52.08333333   0.\n",
            "    0.        ]]\n"
          ],
          "name": "stdout"
        }
      ]
    },
    {
      "cell_type": "markdown",
      "metadata": {
        "id": "wV5phN26yx8t"
      },
      "source": [
        "Preparing the data:"
      ]
    },
    {
      "cell_type": "code",
      "metadata": {
        "colab": {
          "base_uri": "https://localhost:8080/",
          "height": 486
        },
        "id": "MdVSfx26oALQ",
        "outputId": "5449c9c5-398e-43be-d07e-4811e94d3b06"
      },
      "source": [
        "#drop the  0 values and you are left with 20 colums --> input to 1st layer like in the paper \n",
        "import numpy as np\n",
        "import pandas as pd\n",
        "\n",
        "PDdf_withoutzeros= PDdf_ws.loc[:, (PDdf_ws != 0).any(axis=0)]\n",
        "PDdf_withoutzeros\n",
        "\n",
        "Alpha = GetAlphafromPGws(PGdf_ws)\n",
        "Alpha\n"
      ],
      "execution_count": null,
      "outputs": [
        {
          "output_type": "stream",
          "text": [
            "80.0\n",
            "50.0\n",
            "55.0\n",
            "30.0\n",
            "40.0\n"
          ],
          "name": "stdout"
        },
        {
          "output_type": "execute_result",
          "data": {
            "text/html": [
              "<div>\n",
              "<style scoped>\n",
              "    .dataframe tbody tr th:only-of-type {\n",
              "        vertical-align: middle;\n",
              "    }\n",
              "\n",
              "    .dataframe tbody tr th {\n",
              "        vertical-align: top;\n",
              "    }\n",
              "\n",
              "    .dataframe thead th {\n",
              "        text-align: right;\n",
              "    }\n",
              "</style>\n",
              "<table border=\"1\" class=\"dataframe\">\n",
              "  <thead>\n",
              "    <tr style=\"text-align: right;\">\n",
              "      <th></th>\n",
              "      <th>2</th>\n",
              "      <th>22</th>\n",
              "      <th>27</th>\n",
              "      <th>23</th>\n",
              "      <th>13</th>\n",
              "    </tr>\n",
              "  </thead>\n",
              "  <tbody>\n",
              "    <tr>\n",
              "      <th>0</th>\n",
              "      <td>0.732833</td>\n",
              "      <td>0.448309</td>\n",
              "      <td>0.601627</td>\n",
              "      <td>0.534622</td>\n",
              "      <td>0.400966</td>\n",
              "    </tr>\n",
              "    <tr>\n",
              "      <th>1</th>\n",
              "      <td>0.732495</td>\n",
              "      <td>0.448158</td>\n",
              "      <td>0.600596</td>\n",
              "      <td>0.533991</td>\n",
              "      <td>0.400493</td>\n",
              "    </tr>\n",
              "    <tr>\n",
              "      <th>2</th>\n",
              "      <td>0.726275</td>\n",
              "      <td>0.445371</td>\n",
              "      <td>0.581611</td>\n",
              "      <td>0.522380</td>\n",
              "      <td>0.391785</td>\n",
              "    </tr>\n",
              "    <tr>\n",
              "      <th>3</th>\n",
              "      <td>0.733101</td>\n",
              "      <td>0.448429</td>\n",
              "      <td>0.602445</td>\n",
              "      <td>0.535122</td>\n",
              "      <td>0.401341</td>\n",
              "    </tr>\n",
              "    <tr>\n",
              "      <th>4</th>\n",
              "      <td>0.731179</td>\n",
              "      <td>0.447568</td>\n",
              "      <td>0.596578</td>\n",
              "      <td>0.531534</td>\n",
              "      <td>0.398650</td>\n",
              "    </tr>\n",
              "    <tr>\n",
              "      <th>...</th>\n",
              "      <td>...</td>\n",
              "      <td>...</td>\n",
              "      <td>...</td>\n",
              "      <td>...</td>\n",
              "      <td>...</td>\n",
              "    </tr>\n",
              "    <tr>\n",
              "      <th>29995</th>\n",
              "      <td>0.719044</td>\n",
              "      <td>0.442132</td>\n",
              "      <td>0.559543</td>\n",
              "      <td>0.508883</td>\n",
              "      <td>0.381662</td>\n",
              "    </tr>\n",
              "    <tr>\n",
              "      <th>29996</th>\n",
              "      <td>0.731542</td>\n",
              "      <td>0.447731</td>\n",
              "      <td>0.597688</td>\n",
              "      <td>0.532213</td>\n",
              "      <td>0.399159</td>\n",
              "    </tr>\n",
              "    <tr>\n",
              "      <th>29997</th>\n",
              "      <td>0.724186</td>\n",
              "      <td>0.444435</td>\n",
              "      <td>0.575235</td>\n",
              "      <td>0.518480</td>\n",
              "      <td>0.388860</td>\n",
              "    </tr>\n",
              "    <tr>\n",
              "      <th>29998</th>\n",
              "      <td>0.730430</td>\n",
              "      <td>0.447233</td>\n",
              "      <td>0.594293</td>\n",
              "      <td>0.530137</td>\n",
              "      <td>0.397602</td>\n",
              "    </tr>\n",
              "    <tr>\n",
              "      <th>29999</th>\n",
              "      <td>0.726724</td>\n",
              "      <td>0.445572</td>\n",
              "      <td>0.582981</td>\n",
              "      <td>0.523218</td>\n",
              "      <td>0.392413</td>\n",
              "    </tr>\n",
              "  </tbody>\n",
              "</table>\n",
              "<p>30000 rows × 5 columns</p>\n",
              "</div>"
            ],
            "text/plain": [
              "              2        22        27        23        13\n",
              "0      0.732833  0.448309  0.601627  0.534622  0.400966\n",
              "1      0.732495  0.448158  0.600596  0.533991  0.400493\n",
              "2      0.726275  0.445371  0.581611  0.522380  0.391785\n",
              "3      0.733101  0.448429  0.602445  0.535122  0.401341\n",
              "4      0.731179  0.447568  0.596578  0.531534  0.398650\n",
              "...         ...       ...       ...       ...       ...\n",
              "29995  0.719044  0.442132  0.559543  0.508883  0.381662\n",
              "29996  0.731542  0.447731  0.597688  0.532213  0.399159\n",
              "29997  0.724186  0.444435  0.575235  0.518480  0.388860\n",
              "29998  0.730430  0.447233  0.594293  0.530137  0.397602\n",
              "29999  0.726724  0.445572  0.582981  0.523218  0.392413\n",
              "\n",
              "[30000 rows x 5 columns]"
            ]
          },
          "metadata": {
            "tags": []
          },
          "execution_count": 21
        }
      ]
    },
    {
      "cell_type": "code",
      "metadata": {
        "id": "HKK529Av-bWe",
        "colab": {
          "base_uri": "https://localhost:8080/",
          "height": 422
        },
        "outputId": "cfa10c52-4656-4bde-85d1-871411aded08"
      },
      "source": [
        "import torch \n",
        "import torch.nn as nn\n",
        "import torch.nn.functional as functional\n",
        "PD_train, PD_test, Alpha_train, Alpha_test = train_test_split(PDdf_withoutzeros, Alpha, test_size=0.2, random_state=42)\n",
        "PD_train "
      ],
      "execution_count": null,
      "outputs": [
        {
          "output_type": "execute_result",
          "data": {
            "text/html": [
              "<div>\n",
              "<style scoped>\n",
              "    .dataframe tbody tr th:only-of-type {\n",
              "        vertical-align: middle;\n",
              "    }\n",
              "\n",
              "    .dataframe tbody tr th {\n",
              "        vertical-align: top;\n",
              "    }\n",
              "\n",
              "    .dataframe thead th {\n",
              "        text-align: right;\n",
              "    }\n",
              "</style>\n",
              "<table border=\"1\" class=\"dataframe\">\n",
              "  <thead>\n",
              "    <tr style=\"text-align: right;\">\n",
              "      <th></th>\n",
              "      <th>2</th>\n",
              "      <th>3</th>\n",
              "      <th>4</th>\n",
              "      <th>7</th>\n",
              "      <th>8</th>\n",
              "      <th>10</th>\n",
              "      <th>12</th>\n",
              "      <th>14</th>\n",
              "      <th>15</th>\n",
              "      <th>16</th>\n",
              "      <th>17</th>\n",
              "      <th>18</th>\n",
              "      <th>19</th>\n",
              "      <th>20</th>\n",
              "      <th>21</th>\n",
              "      <th>23</th>\n",
              "      <th>24</th>\n",
              "      <th>26</th>\n",
              "      <th>29</th>\n",
              "      <th>30</th>\n",
              "    </tr>\n",
              "  </thead>\n",
              "  <tbody>\n",
              "    <tr>\n",
              "      <th>21753</th>\n",
              "      <td>0.326233</td>\n",
              "      <td>0.261585</td>\n",
              "      <td>0.307766</td>\n",
              "      <td>0.156268</td>\n",
              "      <td>0.875702</td>\n",
              "      <td>0.703217</td>\n",
              "      <td>0.048082</td>\n",
              "      <td>0.107906</td>\n",
              "      <td>0.855895</td>\n",
              "      <td>0.318211</td>\n",
              "      <td>0.996487</td>\n",
              "      <td>0.390526</td>\n",
              "      <td>0.559748</td>\n",
              "      <td>0.624869</td>\n",
              "      <td>0.399576</td>\n",
              "      <td>0.174140</td>\n",
              "      <td>0.741631</td>\n",
              "      <td>0.053121</td>\n",
              "      <td>0.258273</td>\n",
              "      <td>0.666075</td>\n",
              "    </tr>\n",
              "    <tr>\n",
              "      <th>251</th>\n",
              "      <td>0.090263</td>\n",
              "      <td>0.874544</td>\n",
              "      <td>0.049550</td>\n",
              "      <td>0.600799</td>\n",
              "      <td>0.598558</td>\n",
              "      <td>0.449021</td>\n",
              "      <td>0.719142</td>\n",
              "      <td>0.706332</td>\n",
              "      <td>0.468379</td>\n",
              "      <td>0.158967</td>\n",
              "      <td>0.520719</td>\n",
              "      <td>0.948684</td>\n",
              "      <td>0.615455</td>\n",
              "      <td>0.105746</td>\n",
              "      <td>0.324349</td>\n",
              "      <td>0.687170</td>\n",
              "      <td>0.776208</td>\n",
              "      <td>0.256462</td>\n",
              "      <td>0.685704</td>\n",
              "      <td>0.978176</td>\n",
              "    </tr>\n",
              "    <tr>\n",
              "      <th>22941</th>\n",
              "      <td>0.829108</td>\n",
              "      <td>0.703122</td>\n",
              "      <td>0.793971</td>\n",
              "      <td>0.534843</td>\n",
              "      <td>0.552323</td>\n",
              "      <td>0.742004</td>\n",
              "      <td>0.116631</td>\n",
              "      <td>0.208368</td>\n",
              "      <td>0.117430</td>\n",
              "      <td>0.771318</td>\n",
              "      <td>0.809594</td>\n",
              "      <td>0.671080</td>\n",
              "      <td>0.091493</td>\n",
              "      <td>0.227012</td>\n",
              "      <td>0.843115</td>\n",
              "      <td>0.078803</td>\n",
              "      <td>0.714859</td>\n",
              "      <td>0.691393</td>\n",
              "      <td>0.858181</td>\n",
              "      <td>0.294862</td>\n",
              "    </tr>\n",
              "    <tr>\n",
              "      <th>618</th>\n",
              "      <td>0.638255</td>\n",
              "      <td>0.899094</td>\n",
              "      <td>0.060494</td>\n",
              "      <td>0.578574</td>\n",
              "      <td>0.776060</td>\n",
              "      <td>0.274256</td>\n",
              "      <td>0.049454</td>\n",
              "      <td>0.629864</td>\n",
              "      <td>0.476406</td>\n",
              "      <td>0.614210</td>\n",
              "      <td>0.044950</td>\n",
              "      <td>0.426453</td>\n",
              "      <td>0.067925</td>\n",
              "      <td>0.350169</td>\n",
              "      <td>0.949851</td>\n",
              "      <td>0.680203</td>\n",
              "      <td>0.169360</td>\n",
              "      <td>0.459577</td>\n",
              "      <td>0.033467</td>\n",
              "      <td>0.151890</td>\n",
              "    </tr>\n",
              "    <tr>\n",
              "      <th>17090</th>\n",
              "      <td>0.959654</td>\n",
              "      <td>0.098523</td>\n",
              "      <td>0.181575</td>\n",
              "      <td>0.717083</td>\n",
              "      <td>0.631474</td>\n",
              "      <td>0.544851</td>\n",
              "      <td>0.133724</td>\n",
              "      <td>0.403053</td>\n",
              "      <td>0.585879</td>\n",
              "      <td>0.954691</td>\n",
              "      <td>0.409456</td>\n",
              "      <td>0.572179</td>\n",
              "      <td>0.426808</td>\n",
              "      <td>0.836225</td>\n",
              "      <td>0.418924</td>\n",
              "      <td>0.397776</td>\n",
              "      <td>0.404316</td>\n",
              "      <td>0.406958</td>\n",
              "      <td>0.596566</td>\n",
              "      <td>0.925438</td>\n",
              "    </tr>\n",
              "    <tr>\n",
              "      <th>...</th>\n",
              "      <td>...</td>\n",
              "      <td>...</td>\n",
              "      <td>...</td>\n",
              "      <td>...</td>\n",
              "      <td>...</td>\n",
              "      <td>...</td>\n",
              "      <td>...</td>\n",
              "      <td>...</td>\n",
              "      <td>...</td>\n",
              "      <td>...</td>\n",
              "      <td>...</td>\n",
              "      <td>...</td>\n",
              "      <td>...</td>\n",
              "      <td>...</td>\n",
              "      <td>...</td>\n",
              "      <td>...</td>\n",
              "      <td>...</td>\n",
              "      <td>...</td>\n",
              "      <td>...</td>\n",
              "      <td>...</td>\n",
              "    </tr>\n",
              "    <tr>\n",
              "      <th>29802</th>\n",
              "      <td>0.721061</td>\n",
              "      <td>0.043455</td>\n",
              "      <td>0.330621</td>\n",
              "      <td>0.251876</td>\n",
              "      <td>0.118936</td>\n",
              "      <td>0.340421</td>\n",
              "      <td>0.362696</td>\n",
              "      <td>0.276083</td>\n",
              "      <td>0.434513</td>\n",
              "      <td>0.472894</td>\n",
              "      <td>0.953602</td>\n",
              "      <td>0.591843</td>\n",
              "      <td>0.211443</td>\n",
              "      <td>0.335261</td>\n",
              "      <td>0.978438</td>\n",
              "      <td>0.235401</td>\n",
              "      <td>0.340363</td>\n",
              "      <td>0.975712</td>\n",
              "      <td>0.374618</td>\n",
              "      <td>0.898364</td>\n",
              "    </tr>\n",
              "    <tr>\n",
              "      <th>5390</th>\n",
              "      <td>0.088903</td>\n",
              "      <td>0.304913</td>\n",
              "      <td>0.882608</td>\n",
              "      <td>0.824978</td>\n",
              "      <td>0.328853</td>\n",
              "      <td>0.151823</td>\n",
              "      <td>0.383440</td>\n",
              "      <td>0.651274</td>\n",
              "      <td>0.970572</td>\n",
              "      <td>0.176247</td>\n",
              "      <td>0.847587</td>\n",
              "      <td>0.340052</td>\n",
              "      <td>0.238121</td>\n",
              "      <td>0.033508</td>\n",
              "      <td>0.814657</td>\n",
              "      <td>0.467412</td>\n",
              "      <td>0.262362</td>\n",
              "      <td>0.109288</td>\n",
              "      <td>0.186941</td>\n",
              "      <td>0.749851</td>\n",
              "    </tr>\n",
              "    <tr>\n",
              "      <th>860</th>\n",
              "      <td>0.475176</td>\n",
              "      <td>0.780210</td>\n",
              "      <td>0.996192</td>\n",
              "      <td>0.494499</td>\n",
              "      <td>0.319835</td>\n",
              "      <td>0.360475</td>\n",
              "      <td>0.853765</td>\n",
              "      <td>0.019574</td>\n",
              "      <td>0.617945</td>\n",
              "      <td>0.637515</td>\n",
              "      <td>0.051853</td>\n",
              "      <td>0.426979</td>\n",
              "      <td>0.189149</td>\n",
              "      <td>0.357077</td>\n",
              "      <td>0.663095</td>\n",
              "      <td>0.123859</td>\n",
              "      <td>0.651236</td>\n",
              "      <td>0.379087</td>\n",
              "      <td>0.407397</td>\n",
              "      <td>0.498528</td>\n",
              "    </tr>\n",
              "    <tr>\n",
              "      <th>15795</th>\n",
              "      <td>0.081447</td>\n",
              "      <td>0.684850</td>\n",
              "      <td>0.060551</td>\n",
              "      <td>0.161134</td>\n",
              "      <td>0.615903</td>\n",
              "      <td>0.128263</td>\n",
              "      <td>0.063234</td>\n",
              "      <td>0.489304</td>\n",
              "      <td>0.546971</td>\n",
              "      <td>0.577888</td>\n",
              "      <td>0.633145</td>\n",
              "      <td>0.974898</td>\n",
              "      <td>0.072269</td>\n",
              "      <td>0.658342</td>\n",
              "      <td>0.979885</td>\n",
              "      <td>0.376113</td>\n",
              "      <td>0.873052</td>\n",
              "      <td>0.695869</td>\n",
              "      <td>0.981832</td>\n",
              "      <td>0.674214</td>\n",
              "    </tr>\n",
              "    <tr>\n",
              "      <th>23654</th>\n",
              "      <td>0.544406</td>\n",
              "      <td>0.182337</td>\n",
              "      <td>0.810864</td>\n",
              "      <td>0.788080</td>\n",
              "      <td>0.002822</td>\n",
              "      <td>0.365502</td>\n",
              "      <td>0.694025</td>\n",
              "      <td>0.024863</td>\n",
              "      <td>0.191524</td>\n",
              "      <td>0.260085</td>\n",
              "      <td>0.783941</td>\n",
              "      <td>0.309437</td>\n",
              "      <td>0.895670</td>\n",
              "      <td>0.891189</td>\n",
              "      <td>0.439186</td>\n",
              "      <td>0.365362</td>\n",
              "      <td>0.402959</td>\n",
              "      <td>0.749037</td>\n",
              "      <td>0.214017</td>\n",
              "      <td>0.221124</td>\n",
              "    </tr>\n",
              "  </tbody>\n",
              "</table>\n",
              "<p>24000 rows × 20 columns</p>\n",
              "</div>"
            ],
            "text/plain": [
              "              2         3         4  ...        26        29        30\n",
              "21753  0.326233  0.261585  0.307766  ...  0.053121  0.258273  0.666075\n",
              "251    0.090263  0.874544  0.049550  ...  0.256462  0.685704  0.978176\n",
              "22941  0.829108  0.703122  0.793971  ...  0.691393  0.858181  0.294862\n",
              "618    0.638255  0.899094  0.060494  ...  0.459577  0.033467  0.151890\n",
              "17090  0.959654  0.098523  0.181575  ...  0.406958  0.596566  0.925438\n",
              "...         ...       ...       ...  ...       ...       ...       ...\n",
              "29802  0.721061  0.043455  0.330621  ...  0.975712  0.374618  0.898364\n",
              "5390   0.088903  0.304913  0.882608  ...  0.109288  0.186941  0.749851\n",
              "860    0.475176  0.780210  0.996192  ...  0.379087  0.407397  0.498528\n",
              "15795  0.081447  0.684850  0.060551  ...  0.695869  0.981832  0.674214\n",
              "23654  0.544406  0.182337  0.810864  ...  0.749037  0.214017  0.221124\n",
              "\n",
              "[24000 rows x 20 columns]"
            ]
          },
          "metadata": {
            "tags": []
          },
          "execution_count": 22
        }
      ]
    },
    {
      "cell_type": "markdown",
      "metadata": {
        "id": "zcRYy55roGDr"
      },
      "source": [
        "Initialize the network"
      ]
    },
    {
      "cell_type": "markdown",
      "metadata": {
        "id": "rRrfuNZq_4ZK"
      },
      "source": [
        "Training data to tensors:"
      ]
    },
    {
      "cell_type": "code",
      "metadata": {
        "id": "DIaerknvokUi",
        "colab": {
          "base_uri": "https://localhost:8080/"
        },
        "outputId": "a043268e-2cc2-4f49-ef16-da6e43b11107"
      },
      "source": [
        "#INPUTS \n",
        "#Convert to Array \n",
        "inputs = PD_train.values\n",
        "inputs = inputs.astype ('float32') #emphasizing on the type\n",
        "\n",
        "#Convert into tensors\n",
        "inputs = torch.from_numpy(inputs)\n",
        "print(inputs)\n",
        "\n",
        "#TARGETS\n",
        "#Convert to Array \n",
        "Alpha_target = Alpha_train.values\n",
        "Alpha_target = Alpha_target.astype ('float32') #emphasizing on the type\n",
        "\n",
        "#Convert into tensors\n",
        "Alpha_target = torch.from_numpy(Alpha_target)\n",
        "print(Alpha_target)\n",
        "\n"
      ],
      "execution_count": null,
      "outputs": [
        {
          "output_type": "stream",
          "text": [
            "tensor([[0.3262, 0.2616, 0.3078,  ..., 0.0531, 0.2583, 0.6661],\n",
            "        [0.0903, 0.8745, 0.0495,  ..., 0.2565, 0.6857, 0.9782],\n",
            "        [0.8291, 0.7031, 0.7940,  ..., 0.6914, 0.8582, 0.2949],\n",
            "        ...,\n",
            "        [0.4752, 0.7802, 0.9962,  ..., 0.3791, 0.4074, 0.4985],\n",
            "        [0.0814, 0.6848, 0.0606,  ..., 0.6959, 0.9818, 0.6742],\n",
            "        [0.5444, 0.1823, 0.8109,  ..., 0.7490, 0.2140, 0.2211]])\n",
            "tensor([[0.7272, 0.4458, 0.5843, 0.5240, 0.3930],\n",
            "        [0.7293, 0.4467, 0.5908, 0.5280, 0.3960],\n",
            "        [0.7327, 0.4483, 0.6013, 0.5344, 0.4008],\n",
            "        ...,\n",
            "        [0.7260, 0.4452, 0.5807, 0.5218, 0.3914],\n",
            "        [0.7244, 0.4445, 0.5759, 0.5189, 0.3892],\n",
            "        [0.7242, 0.4444, 0.5753, 0.5185, 0.3889]])\n"
          ],
          "name": "stdout"
        }
      ]
    },
    {
      "cell_type": "markdown",
      "metadata": {
        "id": "5aKNIp2C_8d4"
      },
      "source": [
        "Testing data to tensors:"
      ]
    },
    {
      "cell_type": "code",
      "metadata": {
        "colab": {
          "base_uri": "https://localhost:8080/"
        },
        "id": "oUgJvHObCyFG",
        "outputId": "40da5979-af44-415a-bbae-3c60b306aa7e"
      },
      "source": [
        "#INPUTS \n",
        "#Convert to Array \n",
        "inputs_test = PD_test.values\n",
        "inputs_test = inputs_test.astype ('float32') #emphasizing on the type\n",
        "\n",
        "#Convert into tensors\n",
        "inputs_test = torch.from_numpy(inputs_test)\n",
        "print(inputs_test)\n",
        "\n",
        "#TARGETS\n",
        "#Convert to Array \n",
        "Alpha_target_test = Alpha_test.values\n",
        "Alpha_target_test = Alpha_target_test.astype ('float32') #emphasizing on the type\n",
        "\n",
        "#Convert into tensors\n",
        "Alpha_target_test = torch.from_numpy(Alpha_target_test)\n",
        "print(Alpha_target_test)"
      ],
      "execution_count": null,
      "outputs": [
        {
          "output_type": "stream",
          "text": [
            "tensor([[0.1916, 0.1734, 0.5100,  ..., 0.0992, 0.8930, 0.1791],\n",
            "        [0.5186, 0.7394, 0.5469,  ..., 0.0855, 0.8300, 0.1611],\n",
            "        [0.1492, 0.7463, 0.3598,  ..., 0.8811, 0.1138, 0.4091],\n",
            "        ...,\n",
            "        [0.6764, 0.4581, 0.2151,  ..., 0.0855, 0.9290, 0.0580],\n",
            "        [0.7664, 0.3700, 0.2338,  ..., 0.3806, 0.7530, 0.5826],\n",
            "        [0.1603, 0.3225, 0.2677,  ..., 0.4790, 0.7139, 0.2999]])\n",
            "tensor([[0.7324, 0.4481, 0.6004, 0.5339, 0.4004],\n",
            "        [0.7153, 0.4404, 0.5480, 0.5018, 0.3764],\n",
            "        [0.7157, 0.4406, 0.5494, 0.5027, 0.3770],\n",
            "        ...,\n",
            "        [0.7324, 0.4481, 0.6003, 0.5338, 0.4004],\n",
            "        [0.7235, 0.4441, 0.5732, 0.5172, 0.3879],\n",
            "        [0.7207, 0.4429, 0.5645, 0.5119, 0.3839]])\n"
          ],
          "name": "stdout"
        }
      ]
    },
    {
      "cell_type": "code",
      "metadata": {
        "id": "zZpINN_wEj4J"
      },
      "source": [
        "class DeepOPF(nn.Module):\n",
        "\n",
        "  def __init__(self,inputSize,outputSize,hiddenSize1,hiddenSize2):\n",
        "    super(DeepOPF, self).__init__()\n",
        "    self.function1 = nn.Linear(inputSize,hiddenSize1)\n",
        "    self.function2 = nn.Linear(hiddenSize1,hiddenSize2)\n",
        "    self.function3 = nn.Linear(hiddenSize2,outputSize)\n",
        "\n",
        "\n",
        "  def forward(self,x):\n",
        "    x = torch.relu(self.function1(x))\n",
        "    x = torch.relu(self.function2(x))\n",
        "    x = torch.sigmoid(self.function3(x))\n",
        "    return x"
      ],
      "execution_count": null,
      "outputs": []
    },
    {
      "cell_type": "code",
      "metadata": {
        "id": "YIZqZdhRExer"
      },
      "source": [
        "  inputSize = 20\n",
        "  outputSize = 5\n",
        "  hiddenSize1 = 16\n",
        "  hiddenSize2 = 16\n",
        "  batch_size = 64\n",
        "  Deep_OPF = DeepOPF(inputSize,outputSize,hiddenSize1,hiddenSize2)\n",
        "  learning_rate = 1e-3\n",
        "  n_epochs = 235\n",
        "  emp = []\n",
        "  for i in range(len(PD_train)):\n",
        "    emp.append([inputs[i],Alpha_target[i]])\n",
        "  "
      ],
      "execution_count": null,
      "outputs": []
    },
    {
      "cell_type": "code",
      "metadata": {
        "id": "99M7nD8SIkMR"
      },
      "source": [
        " DataLoad = torch.utils.data.DataLoader(dataset = emp, batch_size = 64, shuffle = True)\n",
        " optimizer = torch.optim.Adam(Deep_OPF.parameters(), lr= learning_rate)"
      ],
      "execution_count": null,
      "outputs": []
    },
    {
      "cell_type": "code",
      "metadata": {
        "colab": {
          "base_uri": "https://localhost:8080/"
        },
        "id": "GIj-Ky8r1q9d",
        "outputId": "b84483aa-04bf-4b8b-d268-6c93d7c3d8a8"
      },
      "source": [
        "A= createAmatrix() #getting A matrix \n",
        "Ones = np.zeros(shape=(np.shape(A)[0],1))\n",
        "A = A.astype(np.float32)\n",
        "A = torch.from_numpy(A) # A matrix as a tensor\n",
        "\n",
        "#getting ones for loss 2\n",
        "for x in range(len(Ones)):\n",
        "  Ones[x] =1\n",
        "Ones = torch.from_numpy(Ones)\n",
        "\n",
        "#getting the difference for unnormalization\n",
        "PDdiff = []\n",
        "PDdifftorch = []\n",
        "it = 0\n",
        "for column in PD_maxs:\n",
        "  PDdifftorch.append(PD_maxs[it]  - PD_mins[it] )\n",
        "  it = it +1\n",
        "print(PDdifftorch)\n",
        "PDdiff = PDdifftorch.copy()\n",
        "PDdifftorch = torch.from_numpy(np.asarray(PDdifftorch, dtype = 'float64')) \n",
        "print(PDdifftorch)\n",
        "\n",
        "# getting min for unnormalization \n",
        "\n",
        "PDmintorch = torch.from_numpy(np.asarray(PD_mins, dtype = 'float64'))  \n",
        "\n",
        " #getting PG diff for getting PG from alphas\n",
        "\n",
        "PGdifftorch = []\n",
        "PGmin  = []\n",
        "it=0\n",
        "PGmax =  Power[:][\"Pmax\"]\n",
        "for column in PGmax:\n",
        "    if (it != slack_adapted):\n",
        "      PGdifftorch.append(Power.at[it, \"Pmax\"]- Power.at[it, \"Pmin\"])\n",
        "      PGmin.append(Power.at[it,\"Pmin\"])\n",
        "    it= it+1\n",
        "PGdifftorch = torch.from_numpy(np.asarray(PGdifftorch, dtype = 'float64'))\n",
        "\n",
        " #getting PG min for getting PG from alphas\n",
        "\n",
        "PGmintorch = torch.from_numpy(np.asarray(PGmin, dtype = 'float64'))\n",
        "\n",
        "#getting the B inverse for later use\n",
        "\n",
        "B_inverse = Get_B_Matrix_Inverse()\n",
        "B_inverse = torch.from_numpy(B_inverse)"
      ],
      "execution_count": null,
      "outputs": [
        {
          "output_type": "stream",
          "text": [
            "[4.339840785442899, 0.4799853111504304, 1.5198377606236297, 0, 0, 4.559622075100403, 5.999952024951995, 0, 1.1598520370930094, 0, 2.239819785616202, 0, 1.23991983532175, 1.639938966084161, 0.6999792328551901, 1.7998777609062113, 0.6399268372083795, 1.899899531216521, 0.43997592847423994, 3.4998491520126027, 0, 0.6399360376218701, 1.7399046962123297, 0, 0.6998228629525398, 0, 0, 0.47998289811851036, 2.119934116978561]\n",
            "tensor([4.3398, 0.4800, 1.5198, 0.0000, 0.0000, 4.5596, 6.0000, 0.0000, 1.1599,\n",
            "        0.0000, 2.2398, 0.0000, 1.2399, 1.6399, 0.7000, 1.7999, 0.6399, 1.8999,\n",
            "        0.4400, 3.4998, 0.0000, 0.6399, 1.7399, 0.0000, 0.6998, 0.0000, 0.0000,\n",
            "        0.4800, 2.1199], dtype=torch.float64)\n"
          ],
          "name": "stdout"
        }
      ]
    },
    {
      "cell_type": "code",
      "metadata": {
        "id": "kpkrGGHhdMk5",
        "colab": {
          "base_uri": "https://localhost:8080/"
        },
        "outputId": "3988527b-aad8-462d-c472-b7ca6551a894"
      },
      "source": [
        "from time import time\n",
        "t = time()\n",
        "for epochs in range(n_epochs):\n",
        "  iteration = 0\n",
        "  Loss_per_batch = []\n",
        "  for i,(inputs,Alpha_target) in enumerate(DataLoad):\n",
        "    optimizer.zero_grad()\n",
        "    output_pred = Deep_OPF(inputs)\n",
        "    loss1 = torch.nn.MSELoss(size_average=None, reduce=None, reduction = 'mean') #\n",
        "    Loss1_input = loss1(output_pred ,Alpha_target) \n",
        "    #getting PG from output alpha\n",
        "    PGOut0 = torch.mul(output_pred, PGdifftorch)\n",
        "    PGOut0 = torch.add(PGOut0, PGmintorch)\n",
        "    #getting PDs from input tensors \n",
        "    PDIn = torch.zeros(1,len(unNormalizedPD_ws.columns.to_list()))\n",
        "    PGout = torch.zeros(1,len(unNormalizedPD_ws.columns.to_list()))\n",
        "    columnOfInput = 0\n",
        "    PDbuscolumn =0\n",
        "    #adding the 0s\n",
        "    for i in unNormalizedPD_ws:\n",
        "      if (unNormalizedPD_ws[i].max() != 0):\n",
        "        PDIn[0,PDbuscolumn]= inputs[0,columnOfInput]\n",
        "        columnOfInput = columnOfInput + 1\n",
        "      PDbuscolumn =   PDbuscolumn + 1\n",
        "        #unNormalizing PD\n",
        "    PDIn = torch.mul(PDIn, PDdifftorch)\n",
        "    PDIn = torch.add(PDIn, PDmintorch)\n",
        "    columnOfOutput = 0\n",
        "    PGbuscolumn =0\n",
        "    #getting theta tilda\n",
        "    PG_gen_list = PGdf_ws.columns.tolist()\n",
        "    for col in unNormalizedPD_ws.columns:\n",
        "      if col in PG_gen_list:\n",
        "        PGout[0,PGbuscolumn] = PGOut0[0,columnOfOutput]\n",
        "        columnOfOutput = columnOfOutput + 1\n",
        "      PGbuscolumn =   PGbuscolumn + 1\n",
        "    # preparing PD and PG in per unit\n",
        "    PDInFinal =  To_Per_Unit_Torch(PDIn)\n",
        "    PGOutFinal = To_Per_Unit_Torch(PGout)\n",
        "    PDInFinal = torch.transpose(PDInFinal, 0, 1)\n",
        "    PGOutFinal = torch.transpose(PGOutFinal, 0, 1)\n",
        "    Difference = torch.subtract(PGOutFinal,PDInFinal) #getting the difference between PG and PD\n",
        "    Angles =torch.matmul(B_inverse,Difference)   #getting the angles in randiants / multiply by 180/pi for randiants\n",
        "    length_withslack = 1+len(unNormalizedPD_ws.columns.to_list())\n",
        "    Angles_hat = torch.zeros([length_withslack,1] )\n",
        "    #getting angles with slack\n",
        "    it=0\n",
        "    for i in range(length_withslack):\n",
        "      if i != slack_adapted:\n",
        "      \n",
        "        Angles_hat[i,0] = Angles[it,0]\n",
        "        it = it +1\n",
        "    \n",
        "    #calculating loss 2\n",
        "    Loss2_input = torch.matmul(A,Angles_hat)    \n",
        "    Loss2_input = torch.square(Loss2_input)\n",
        "    Loss2_input = torch.subtract(Loss2_input,Ones)\n",
        "    Loss2_input = torch.mean(Loss2_input)\n",
        "    Total_Loss = Loss1_input + Loss2_input* 0.00001\n",
        "    Total_Loss.backward()#\n",
        "    optimizer.step()#\n",
        "   \n",
        "  print(epochs, Loss1_input.item())\n",
        "  \n",
        "\n",
        "print(f'Time to run: {(time() - t)} seconds')\n",
        "\n",
        "    "
      ],
      "execution_count": null,
      "outputs": [
        {
          "output_type": "stream",
          "text": [
            "0 7.54303764551878e-05\n",
            "1 2.006040813284926e-05\n",
            "2 1.0401129202364245e-06\n",
            "3 4.653347787098028e-07\n",
            "4 2.501290055079153e-07\n",
            "5 1.8621315689415496e-07\n",
            "6 1.2490438905388146e-07\n",
            "7 7.11955507881612e-08\n",
            "8 7.606234220247643e-08\n",
            "9 3.9057503897765855e-08\n",
            "10 2.7791497103635265e-08\n",
            "11 2.261485221310977e-08\n",
            "12 2.2228585194739026e-08\n",
            "13 3.518406543889796e-08\n",
            "14 1.8962843739700475e-08\n",
            "15 5.5488051486918266e-08\n",
            "16 2.0522842092418614e-08\n",
            "17 3.441164508899419e-08\n",
            "18 4.102790995830219e-08\n",
            "19 2.9053200734097118e-08\n",
            "20 2.6689495058462853e-08\n",
            "21 2.3242744617846256e-08\n",
            "22 2.516742014790907e-08\n",
            "23 4.11189233773257e-08\n",
            "24 2.0522925581190066e-08\n",
            "25 3.3962795242814536e-08\n",
            "26 2.4394628539425867e-08\n",
            "27 3.4254831859925616e-08\n",
            "28 1.8030167581173373e-08\n",
            "29 2.352147454587339e-08\n",
            "30 1.8566103321404626e-08\n",
            "31 1.469568822187739e-08\n",
            "32 3.980840901363081e-08\n",
            "33 2.4632882400510425e-08\n",
            "34 1.6393297386230188e-08\n",
            "35 2.0873795136822082e-08\n",
            "36 4.658906505028426e-08\n",
            "37 2.212555649805381e-08\n",
            "38 1.4934423475665426e-08\n",
            "39 6.795767149014864e-08\n",
            "40 1.906728996914353e-08\n",
            "41 5.3571692859577524e-08\n",
            "42 2.3799216819497815e-08\n",
            "43 1.494730028639424e-08\n",
            "44 1.7022141918232592e-08\n",
            "45 3.016947047740359e-08\n",
            "46 1.9547393037555594e-08\n",
            "47 3.638908907532823e-08\n",
            "48 7.181056194127677e-09\n",
            "49 2.985943581279571e-08\n",
            "50 2.245050367832846e-08\n",
            "51 3.719218355513476e-08\n",
            "52 5.5503960538771935e-08\n",
            "53 2.0219834695467398e-08\n",
            "54 2.7084240628028056e-08\n",
            "55 4.266805930797091e-08\n",
            "56 9.108033438565144e-09\n",
            "57 1.5534322272969803e-08\n",
            "58 2.1657138304931323e-08\n",
            "59 3.696859351975945e-08\n",
            "60 2.6519074936004472e-08\n",
            "61 1.3002605214751384e-08\n",
            "62 6.578331834816709e-08\n",
            "63 2.661966469474919e-08\n",
            "64 1.1333881388964073e-08\n",
            "65 1.6545605774354044e-08\n",
            "66 4.681775678250233e-08\n",
            "67 1.0454353116529091e-07\n",
            "68 3.777211077249376e-08\n",
            "69 2.4934198705750532e-08\n",
            "70 4.397416120127673e-08\n",
            "71 2.030480494852327e-08\n",
            "72 1.6299972926958617e-08\n",
            "73 1.9178781229811648e-08\n",
            "74 3.518551494607891e-08\n",
            "75 3.057651909443848e-08\n",
            "76 2.6632022809280897e-08\n",
            "77 1.698888851819902e-08\n",
            "78 3.5453872726520785e-08\n",
            "79 1.61197633019583e-08\n",
            "80 3.2324457777122007e-08\n",
            "81 2.088188821858239e-08\n",
            "82 2.0523465593669243e-08\n",
            "83 1.7018574993699076e-08\n",
            "84 2.0404304024168596e-08\n",
            "85 1.3302686951988107e-08\n",
            "86 3.048014107775998e-08\n",
            "87 8.55471427030352e-08\n",
            "88 5.673127745353668e-09\n",
            "89 1.071489919013402e-08\n",
            "90 5.012629955558623e-08\n",
            "91 3.811145887766543e-08\n",
            "92 1.283743422675343e-08\n",
            "93 2.300359014384412e-08\n",
            "94 2.07691854825498e-08\n",
            "95 3.1877458894769006e-08\n",
            "96 1.3368506301958405e-08\n",
            "97 3.637794776523151e-08\n",
            "98 1.1692715418121225e-07\n",
            "99 2.5997048069825723e-08\n",
            "100 3.8990037865005434e-08\n",
            "101 7.779966004761718e-09\n",
            "102 1.4493338085230789e-08\n",
            "103 1.543925520763878e-08\n",
            "104 2.4653488139847468e-08\n",
            "105 6.212351877366018e-08\n",
            "106 6.2236589215558524e-09\n",
            "107 2.7473429753399614e-08\n",
            "108 1.122033488343277e-08\n",
            "109 1.7062950163904134e-08\n",
            "110 2.647888575069146e-09\n",
            "111 2.3635481127826097e-08\n",
            "112 2.8176069477581223e-08\n",
            "113 3.2445981457129847e-09\n",
            "114 2.6618579340720316e-08\n",
            "115 4.515014850881016e-08\n",
            "116 3.118669411605879e-08\n",
            "117 1.8663197209889404e-08\n",
            "118 1.1602609539806963e-08\n",
            "119 3.374053036964142e-08\n",
            "120 9.817412660595437e-09\n",
            "121 4.86092854856679e-09\n",
            "122 1.944548744248209e-09\n",
            "123 6.050568934767853e-09\n",
            "124 3.797398306915056e-08\n",
            "125 3.662992043018676e-08\n",
            "126 5.764883237446838e-09\n",
            "127 4.117882035359344e-09\n",
            "128 3.2507116998203855e-09\n",
            "129 6.561774767988027e-08\n",
            "130 8.901978709729974e-09\n",
            "131 1.741020305701113e-08\n",
            "132 3.6605790398880345e-08\n",
            "133 1.0076092848976259e-08\n",
            "134 1.141895289435979e-08\n",
            "135 2.0981831827526776e-09\n",
            "136 1.4360267641677638e-08\n",
            "137 3.3678975164264102e-09\n",
            "138 3.080650756714931e-08\n",
            "139 6.442433253539548e-09\n",
            "140 3.887273614111564e-09\n",
            "141 1.7015594266922562e-08\n",
            "142 4.0321022076739155e-09\n",
            "143 6.850695122295747e-09\n",
            "144 3.810185233987795e-08\n",
            "145 1.9301463538567987e-08\n",
            "146 3.116637170563763e-09\n",
            "147 1.560008122680756e-08\n",
            "148 6.2138965084557185e-09\n",
            "149 5.3374726860511146e-09\n",
            "150 5.846290562772083e-09\n",
            "151 3.886481803050401e-09\n",
            "152 1.7170634691865416e-08\n",
            "153 3.802923131956959e-08\n",
            "154 5.675054204345997e-09\n",
            "155 5.740067532400417e-09\n",
            "156 6.667446594832427e-09\n",
            "157 1.4724051311532094e-08\n",
            "158 2.1652666326588133e-09\n",
            "159 8.390281358572338e-09\n",
            "160 8.197127421283312e-09\n",
            "161 1.2571921281789855e-08\n",
            "162 7.669918922204033e-09\n",
            "163 2.077019889412668e-09\n",
            "164 8.943149332196754e-09\n",
            "165 1.674420779806951e-08\n",
            "166 7.225897213913868e-09\n",
            "167 1.0588360410679343e-08\n",
            "168 2.4677396126548956e-08\n",
            "169 1.7524286022307933e-08\n",
            "170 2.2803771315693666e-08\n",
            "171 4.053894553379678e-09\n",
            "172 2.3739747945228373e-08\n",
            "173 8.189422473492414e-09\n",
            "174 5.7144667664488225e-08\n",
            "175 4.193001501562321e-08\n",
            "176 1.1222185847259425e-08\n",
            "177 2.8361537562915373e-09\n",
            "178 3.0986836208057866e-08\n",
            "179 5.043474970989337e-09\n",
            "180 3.616872135125959e-09\n",
            "181 3.127243575207217e-09\n",
            "182 1.058987741942019e-08\n",
            "183 4.659974095488906e-08\n",
            "184 8.86176731995647e-09\n",
            "185 1.3250415875631916e-08\n",
            "186 8.620546054771694e-09\n",
            "187 4.428311584092626e-08\n",
            "188 2.9278577784452864e-08\n",
            "189 5.593379981405633e-08\n",
            "190 3.327431130628611e-08\n",
            "191 1.155496409666057e-08\n",
            "192 2.483593330993017e-09\n",
            "193 2.0362959318731555e-08\n",
            "194 7.562090509338759e-09\n",
            "195 4.870954128932681e-08\n",
            "196 2.1057124044432385e-08\n",
            "197 9.734987926890426e-09\n",
            "198 1.1902436369837233e-08\n",
            "199 3.940221482423567e-09\n",
            "200 5.903173061483358e-09\n",
            "201 1.4243132895330746e-08\n",
            "202 9.504828035744595e-09\n",
            "203 5.417908344185207e-09\n",
            "204 1.9037974752222908e-08\n",
            "205 3.928117564555578e-08\n",
            "206 2.261399734138081e-09\n",
            "207 8.098849590965074e-09\n",
            "208 5.431694205526583e-09\n",
            "209 2.1392572158163148e-09\n",
            "210 1.1537118815851954e-08\n",
            "211 7.691424386280232e-09\n",
            "212 1.3444281243835121e-08\n",
            "213 1.799280191505659e-08\n",
            "214 1.308969377333824e-08\n",
            "215 1.5899516370154743e-08\n",
            "216 6.651518447142735e-09\n",
            "217 8.397447182062479e-09\n",
            "218 1.94360652017167e-08\n",
            "219 7.114668854057982e-09\n",
            "220 6.019470699669682e-09\n",
            "221 7.067227691948119e-09\n",
            "222 3.0306335219165703e-09\n",
            "223 8.869295520241849e-09\n",
            "224 1.3105454499395819e-08\n",
            "225 3.538348725129481e-09\n",
            "226 1.869632626494422e-08\n",
            "227 9.25329235457184e-09\n",
            "228 1.6593577623069677e-09\n",
            "229 2.9479001462107135e-09\n",
            "230 1.9035638842979097e-08\n",
            "231 6.029855281752816e-09\n",
            "232 4.3773273894487374e-09\n",
            "233 3.4945315530166e-09\n",
            "234 2.6613406589603983e-08\n",
            "Time to run: 405.71588611602783 seconds\n"
          ],
          "name": "stdout"
        }
      ]
    },
    {
      "cell_type": "code",
      "metadata": {
        "colab": {
          "base_uri": "https://localhost:8080/"
        },
        "id": "ybVphAzAtmMd",
        "outputId": "47ffd349-3bcf-457c-d64e-4ef5dc78f700"
      },
      "source": [
        "from time import time\n",
        "from numpy import vstack\n",
        "import numpy as np\n",
        "import math\n",
        "\n",
        "from sklearn.metrics import accuracy_score\n",
        "test_data = []\n",
        "for i in range(len(PD_test)):\n",
        "    test_data.append([inputs_test[i],Alpha_target_test[i]])\n",
        "TestLoad = torch.utils.data.DataLoader(dataset = test_data, batch_size = 64, shuffle = True)\n",
        "predictions, actuals = list(), list()\n",
        "t = time()\n",
        "for i, (inputs_test, Alpha_target_test) in enumerate(test_data):\n",
        "    # evaluate the model on the test set\n",
        "    yhat = Deep_OPF(inputs_test)\n",
        "    # retrieve numpy array\n",
        "    yhat = yhat.detach().numpy()\n",
        "    actual = Alpha_target_test.numpy()\n",
        "    predictions.append(yhat)\n",
        "    actuals.append(actual)\n",
        "print(f'Time to run: {(time() - t)} seconds')\n"
      ],
      "execution_count": null,
      "outputs": [
        {
          "output_type": "stream",
          "text": [
            "Time to run: 0.5357749462127686 seconds\n"
          ],
          "name": "stdout"
        }
      ]
    },
    {
      "cell_type": "markdown",
      "metadata": {
        "id": "JUkK5c25naIk"
      },
      "source": [
        "code for saving the model "
      ]
    },
    {
      "cell_type": "code",
      "metadata": {
        "colab": {
          "base_uri": "https://localhost:8080/"
        },
        "id": "wSh-khl4A7S7",
        "outputId": "45b1fabe-0e4b-4423-a576-179331fd234f"
      },
      "source": [
        "print(actuals[2],predictions[2])\n",
        "print(actuals[1000],predictions[1000])\n"
      ],
      "execution_count": null,
      "outputs": [
        {
          "output_type": "stream",
          "text": [
            "[0.71573234 0.4406481  0.5494338  0.5027004  0.3770253 ] [0.71545273 0.44080827 0.54930454 0.50268567 0.3771508 ]\n",
            "[0.71095246 0.43850672 0.5348452  0.49377796 0.37033346] [0.71060616 0.43867287 0.53454655 0.49377975 0.37051332]\n"
          ],
          "name": "stdout"
        }
      ]
    },
    {
      "cell_type": "markdown",
      "metadata": {
        "id": "8FjentWlBMr7"
      },
      "source": [
        "Average of Root Mean Squared error of 15000 testing simulations"
      ]
    },
    {
      "cell_type": "code",
      "metadata": {
        "colab": {
          "base_uri": "https://localhost:8080/"
        },
        "id": "amMMq--0G-rr",
        "outputId": "577da4ed-a1c0-425b-a09d-8f683e5e1bff"
      },
      "source": [
        "from sklearn.metrics import mean_squared_error\n",
        "n=[]\n",
        "actuals = np.array(actuals)\n",
        "predictions = np.array(predictions)\n",
        "for i in range(len(actuals[0])):\n",
        "  s=mean_squared_error(actuals[i],predictions[i],squared=False)\n",
        "  n.append(s)\n",
        "n=np.array(n)\n",
        "print(n)\n",
        "print((n.sum()/len(n)))\n"
      ],
      "execution_count": null,
      "outputs": [
        {
          "output_type": "stream",
          "text": [
            "[0.0002013  0.00019271 0.00016523 0.00020408 0.00019208]\n",
            "0.0001910800114274025\n"
          ],
          "name": "stdout"
        }
      ]
    },
    {
      "cell_type": "markdown",
      "metadata": {
        "id": "8-Y6_X00Fiz9"
      },
      "source": [
        "Average R2 SCORE "
      ]
    },
    {
      "cell_type": "code",
      "metadata": {
        "colab": {
          "base_uri": "https://localhost:8080/"
        },
        "id": "tdELLFSKFzg8",
        "outputId": "14904d49-8ff0-4dcb-bc09-b9912f75fd77"
      },
      "source": [
        "from sklearn.metrics import r2_score\n",
        "n=[]\n",
        "actuals = np.array(actuals)\n",
        "predictions = np.array(predictions)\n",
        "for i in range(len(actuals[0])):\n",
        "  c=r2_score(actuals[i], predictions[i])\n",
        "  n.append(c)\n",
        "n=np.array(n) \n",
        "print(n)\n",
        "print((n.sum()/len(n)))"
      ],
      "execution_count": null,
      "outputs": [
        {
          "output_type": "stream",
          "text": [
            "[0.99999705 0.99999719 0.99999794 0.99999695 0.99999727]\n",
            "0.9999972803690106\n"
          ],
          "name": "stdout"
        }
      ]
    },
    {
      "cell_type": "markdown",
      "metadata": {
        "id": "wIoucdnbzet-"
      },
      "source": [
        "Saving the model"
      ]
    },
    {
      "cell_type": "code",
      "metadata": {
        "id": "BKuGcC0py8S8"
      },
      "source": [
        "PATH=\"model.pth\"\n",
        "torch.save(Deep_OPF.state_dict(), PATH)"
      ],
      "execution_count": null,
      "outputs": []
    },
    {
      "cell_type": "markdown",
      "metadata": {
        "id": "DsTQov6YZkJY"
      },
      "source": [
        "Gettig the real Pg"
      ]
    },
    {
      "cell_type": "code",
      "metadata": {
        "id": "fFUME7QT5HRg",
        "colab": {
          "base_uri": "https://localhost:8080/"
        },
        "outputId": "2583afb9-742b-4ecc-87e0-7480111c1c66"
      },
      "source": [
        "actuals_df = pd.DataFrame(actuals)\n",
        "PG_actual_ws = GetPGfromAlphaws(actuals_df)\n",
        "print(PG_actual_ws)\n",
        "predictions_df = pd.DataFrame(predictions)\n",
        "PG_predicted_ws = GetPGfromAlphaws(predictions_df)\n",
        "print(PG_predicted_ws)\n",
        "PG_predicted_ws.to_csv(r'PG_predictions_ws.csv',index=False)"
      ],
      "execution_count": null,
      "outputs": [
        {
          "output_type": "stream",
          "text": [
            "              0          1          2          3          4\n",
            "0     58.594700  22.406515  33.022453  16.016291  16.016291\n",
            "1     57.221176  22.021929  30.140352  15.054821  15.054822\n",
            "2     57.258587  22.032406  30.218861  15.081012  15.081013\n",
            "3     58.499023  22.379726  32.821686  15.949316  15.949315\n",
            "4     58.190990  22.293476  32.175339  15.733693  15.733692\n",
            "...         ...        ...        ...        ...        ...\n",
            "5995  57.655075  22.143421  31.050819  15.358554  15.358553\n",
            "5996  58.948406  22.505552  33.764637  16.263884  16.263884\n",
            "5997  58.591759  22.405693  33.016281  16.014231  16.014231\n",
            "5998  57.880474  22.206533  31.523777  15.516333  15.516331\n",
            "5999  57.652428  22.142679  31.045254  15.356696  15.356697\n",
            "\n",
            "[6000 rows x 5 columns]\n",
            "              0          1          2          3          4\n",
            "0     58.567200  22.415165  33.013878  16.012819  16.021479\n",
            "1     57.194839  22.030704  30.130928  15.053440  15.059727\n",
            "2     57.236217  22.040413  30.211750  15.080570  15.086032\n",
            "3     58.471851  22.388163  32.812920  15.946755  15.956442\n",
            "4     58.164429  22.301970  32.169102  15.731070  15.740003\n",
            "...         ...        ...        ...        ...        ...\n",
            "5995  57.632317  22.151636  31.045935  15.356520  15.361944\n",
            "5996  58.921783  22.516069  33.764889  16.262693  16.270905\n",
            "5997  58.562363  22.414860  33.008244  16.010962  16.020479\n",
            "5998  57.861137  22.213428  31.518250  15.513917  15.519237\n",
            "5999  57.632767  22.150402  31.040812  15.354616  15.359110\n",
            "\n",
            "[6000 rows x 5 columns]\n"
          ],
          "name": "stdout"
        }
      ]
    },
    {
      "cell_type": "markdown",
      "metadata": {
        "id": "_aLL2sdD9sNB"
      },
      "source": [
        "Getting the phase angles"
      ]
    },
    {
      "cell_type": "code",
      "metadata": {
        "id": "xA1O8THh9v7r",
        "colab": {
          "base_uri": "https://localhost:8080/"
        },
        "outputId": "b3909b97-b823-4304-f12d-0694d780f5ab"
      },
      "source": [
        "R = len(PD_test.index)\n",
        "C= len(unNormalizedPD_ws.columns)\n",
        "PD_test_unNormalized = np.zeros((R,C))\n",
        "PD_test = PD_test.to_numpy()\n",
        "columnOfInput = 0\n",
        "PDbuscolumn = 0\n",
        "for i in unNormalizedPD_ws:\n",
        "      if (unNormalizedPD_ws[i].max() != 0):\n",
        "        for row in range(R):\n",
        "          PD_test_unNormalized[row,PDbuscolumn]= PD_test[row,columnOfInput]\n",
        "          PD_test_unNormalized[row,PDbuscolumn] = PD_test_unNormalized[row,PDbuscolumn] * PDdiff[PDbuscolumn]\n",
        "          PD_test_unNormalized[row,PDbuscolumn] = PD_test_unNormalized[row,PDbuscolumn] + PD_mins[PDbuscolumn]\n",
        "        columnOfInput = columnOfInput + 1\n",
        "      PDbuscolumn =   PDbuscolumn + 1\n",
        "\n",
        "PD_test_unNormalized =  pd.DataFrame(PD_test_unNormalized)\n",
        "print(PD_test)\n",
        "print(PD_test_unNormalized)\n",
        "print(PG_predicted_ws)"
      ],
      "execution_count": null,
      "outputs": [
        {
          "output_type": "stream",
          "text": [
            "[[0.1915565  0.17340502 0.51001443 ... 0.09920891 0.89299053 0.17912129]\n",
            " [0.51855232 0.73938317 0.54687602 ... 0.08554792 0.8299625  0.16110764]\n",
            " [0.14916682 0.74633539 0.35976073 ... 0.88112778 0.11378361 0.40906251]\n",
            " ...\n",
            " [0.67644487 0.45811891 0.21505287 ... 0.08550523 0.92898504 0.05804302]\n",
            " [0.76637364 0.36997239 0.23375148 ... 0.38056996 0.75295636 0.58258011]\n",
            " [0.16033363 0.32254791 0.26773079 ... 0.47901208 0.71392432 0.29990037]]\n",
            "             0         1         2    3   ...   25   26        27         28\n",
            "0     20.361337  2.243246  7.615190  0.0  ...  0.0  0.0  2.588622   9.919785\n",
            "1     21.780447  2.514907  7.671214  0.0  ...  0.0  0.0  2.558370   9.881597\n",
            "2     20.177372  2.518244  7.386829  0.0  ...  0.0  0.0  2.214616  10.407245\n",
            "3     22.339288  2.412296  7.323495  0.0  ...  0.0  0.0  2.276543   9.730261\n",
            "4     19.569104  2.475544  8.088795  0.0  ...  0.0  0.0  2.286665   9.752798\n",
            "...         ...       ...       ...  ...  ...  ...  ...       ...        ...\n",
            "5995  23.433518  2.390882  7.928629  0.0  ...  0.0  0.0  2.408992   9.677816\n",
            "5996  22.880542  2.351072  8.137881  0.0  ...  0.0  0.0  2.419977  10.850851\n",
            "5997  22.465675  2.379904  7.166897  0.0  ...  0.0  0.0  2.605899   9.663107\n",
            "5998  22.855952  2.337595  7.195315  0.0  ...  0.0  0.0  2.521408  10.775091\n",
            "5999  20.225835  2.314832  7.246958  0.0  ...  0.0  0.0  2.502674  10.175829\n",
            "\n",
            "[6000 rows x 29 columns]\n",
            "              0          1          2          3          4\n",
            "0     58.567200  22.415165  33.013878  16.012819  16.021479\n",
            "1     57.194839  22.030704  30.130928  15.053440  15.059727\n",
            "2     57.236217  22.040413  30.211750  15.080570  15.086032\n",
            "3     58.471851  22.388163  32.812920  15.946755  15.956442\n",
            "4     58.164429  22.301970  32.169102  15.731070  15.740003\n",
            "...         ...        ...        ...        ...        ...\n",
            "5995  57.632317  22.151636  31.045935  15.356520  15.361944\n",
            "5996  58.921783  22.516069  33.764889  16.262693  16.270905\n",
            "5997  58.562363  22.414860  33.008244  16.010962  16.020479\n",
            "5998  57.861137  22.213428  31.518250  15.513917  15.519237\n",
            "5999  57.632767  22.150402  31.040812  15.354616  15.359110\n",
            "\n",
            "[6000 rows x 5 columns]\n"
          ],
          "name": "stdout"
        }
      ]
    },
    {
      "cell_type": "code",
      "metadata": {
        "id": "vwYSHzUP0zdK",
        "colab": {
          "base_uri": "https://localhost:8080/"
        },
        "outputId": "59e77048-fc4a-46ab-9fde-bc28d0c1ea75"
      },
      "source": [
        "\n",
        "angles_actual=Get_Phase_Angles(PG_actual_ws, PD_test_unNormalized)\n",
        "angles_actual = pd.DataFrame(angles_actual)\n",
        "angles_actual = angles_actual.T \n",
        "print(angles_actual)\n",
        "angles_actual.to_csv(r'Angles_actuals_ws.csv',index=False)\n"
      ],
      "execution_count": null,
      "outputs": [
        {
          "output_type": "stream",
          "text": [
            "            0         1         2   ...        26         27         28\n",
            "0    -0.880890 -2.111521 -3.018160  ... -4.760084 -10.574489 -11.427726\n",
            "1    -0.861135 -2.043244 -2.920469  ... -4.547473 -10.273555 -11.125001\n",
            "2    -0.853088 -2.072290 -2.955793  ... -4.614216 -10.480345 -11.412431\n",
            "3    -0.893300 -2.063110 -2.955069  ... -4.683973 -10.321971 -11.178252\n",
            "4    -0.861097 -2.135743 -3.039567  ... -4.737090 -10.542430 -11.400337\n",
            "...        ...       ...       ...  ...       ...        ...        ...\n",
            "5995 -0.881449 -2.020248 -2.898258  ... -4.535687 -10.159698 -11.000703\n",
            "5996 -0.899359 -2.086727 -2.987944  ... -4.731503 -10.751870 -11.715512\n",
            "5997 -0.892630 -2.074063 -2.969665  ... -4.696910 -10.423641 -11.248592\n",
            "5998 -0.883365 -2.035651 -2.919572  ... -4.634814 -10.592125 -11.540323\n",
            "5999 -0.862940 -2.078606 -2.970628  ... -4.677217 -10.485421 -11.371934\n",
            "\n",
            "[6000 rows x 29 columns]\n"
          ],
          "name": "stdout"
        }
      ]
    },
    {
      "cell_type": "code",
      "metadata": {
        "id": "bVwA7FigVMs7",
        "colab": {
          "base_uri": "https://localhost:8080/"
        },
        "cellView": "code",
        "outputId": "5f063825-28fc-4488-d4f8-73956d4b13b0"
      },
      "source": [
        "#@title \n",
        "\n",
        "angles_predicted=Get_Phase_Angles(PG_predicted_ws, PD_test_unNormalized)\n",
        "angles_predicted = pd.DataFrame(angles_predicted)\n",
        "angles_predicted = angles_predicted.T \n",
        "print(angles_predicted)\n",
        "angles_predicted.to_csv(r'Angles_actuals_ws.csv',index=False)\n"
      ],
      "execution_count": null,
      "outputs": [
        {
          "output_type": "stream",
          "text": [
            "            0         1         2   ...        26         27         28\n",
            "0    -0.881684 -2.111804 -3.018701  ... -4.760627 -10.575032 -11.428269\n",
            "1    -0.861864 -2.043490 -2.920968  ... -4.547956 -10.274039 -11.125485\n",
            "2    -0.853640 -2.072381 -2.956087  ... -4.614492 -10.480622 -11.412709\n",
            "3    -0.894024 -2.063313 -2.955507  ... -4.684382 -10.322383 -11.178665\n",
            "4    -0.861770 -2.135858 -3.039900  ... -4.737419 -10.542760 -11.400667\n",
            "...        ...       ...       ...  ...       ...        ...        ...\n",
            "5995 -0.882040 -2.020344 -2.898563  ... -4.536018 -10.160027 -11.001032\n",
            "5996 -0.899807 -2.086400 -2.987789  ... -4.731382 -10.751744 -11.715387\n",
            "5997 -0.893429 -2.074286 -2.970145  ... -4.697387 -10.424119 -11.249070\n",
            "5998 -0.883915 -2.035812 -2.919925  ... -4.635184 -10.592493 -11.540691\n",
            "5999 -0.863465 -2.078692 -2.970909  ... -4.677532 -10.485731 -11.372244\n",
            "\n",
            "[6000 rows x 29 columns]\n"
          ],
          "name": "stdout"
        }
      ]
    },
    {
      "cell_type": "markdown",
      "metadata": {
        "id": "X5aGnQ6R1wvn"
      },
      "source": [
        "Average of Root Mean Squared error of 15000 Angles and PG Testing Results"
      ]
    },
    {
      "cell_type": "code",
      "metadata": {
        "colab": {
          "base_uri": "https://localhost:8080/"
        },
        "id": "a-6nz4RL1v63",
        "outputId": "4574e9e3-ba3c-435b-ebc7-9421583b5b3a"
      },
      "source": [
        "from sklearn.metrics import mean_squared_error\n",
        "n1=[]\n",
        "n2=[]\n",
        "actualAngles = np.array(angles_actual)\n",
        "predictionAngles = np.array(angles_predicted)\n",
        "actualPG = np.array(PG_actual_ws)\n",
        "predictionPG = np.array(PG_predicted_ws)\n",
        "print(len(actualPG[0]))\n",
        "for i in range(len(actualPG[0])):\n",
        "  s1=mean_squared_error(actualPG[i],predictionPG[i],squared=False)\n",
        "  n1.append(s1)\n",
        "n1=np.array(n1)\n",
        "print(\"For PG:\")\n",
        "print(n1)\n",
        "print(n1.sum()/len(n1))\n",
        "for i in range(len(actualAngles[0])):\n",
        "  s2=mean_squared_error(actualAngles[i],predictionAngles[i],squared=False)\n",
        "  n2.append(s2)\n",
        "n2=np.array(n2)\n",
        "print(\"For Angles:\")\n",
        "print(n2)\n",
        "print(n2.sum()/len(n2))"
      ],
      "execution_count": null,
      "outputs": [
        {
          "output_type": "stream",
          "text": [
            "5\n",
            "For PG:\n",
            "[0.01373741 0.01330724 0.01131769 0.01373816 0.01313978]\n",
            "0.013048055768013\n",
            "For Angles:\n",
            "[5.65524171e-04 5.02531261e-04 2.99188712e-04 4.44173326e-04\n",
            " 3.63619739e-04 4.17248186e-04 1.33981508e-04 6.42951981e-04\n",
            " 4.83971768e-04 2.86836594e-04 2.21638647e-04 1.32604502e-04\n",
            " 2.03964007e-04 2.20336714e-04 3.58283528e-04 9.52844116e-05\n",
            " 4.88024692e-04 1.83090977e-04 5.47272015e-04 2.16000475e-04\n",
            " 2.35216425e-04 5.04005732e-04 2.35636947e-04 2.30969044e-04\n",
            " 3.07318592e-04 2.88922693e-04 1.65759822e-04 3.27947531e-04\n",
            " 1.20354167e-04]\n",
            "0.0003180226954984769\n"
          ],
          "name": "stdout"
        }
      ]
    },
    {
      "cell_type": "markdown",
      "metadata": {
        "id": "6nQNge8s8OXe"
      },
      "source": [
        "Average R2 SCORE "
      ]
    },
    {
      "cell_type": "code",
      "metadata": {
        "colab": {
          "base_uri": "https://localhost:8080/"
        },
        "id": "tHtlgF3X8PM9",
        "outputId": "4fee95a9-9822-42ea-ea1a-b1a5d94e849b"
      },
      "source": [
        "from sklearn.metrics import r2_score\n",
        "n1= []\n",
        "n2 = []\n",
        "for i in range(len(actualPG[0])):\n",
        "  c1=r2_score(actualPG[i],predictionPG[i])\n",
        "  n1.append(c1)\n",
        "n1=np.array(n1)\n",
        "\n",
        "print(\"For PG:\")\n",
        "print(n1)\n",
        "print(n1.sum()/len(n1))\n",
        "for i in range(len(actualAngles[0])):\n",
        "  c2=r2_score(actualAngles[i],predictionAngles[i])\n",
        "  n2.append(c2)\n",
        "print(\"For Angles:\")\n",
        "\n",
        "n2=np.array(n2) \n",
        "print(n2)\n",
        "print((n2.sum()/len(n2)))"
      ],
      "execution_count": null,
      "outputs": [
        {
          "output_type": "stream",
          "text": [
            "For PG:\n",
            "[0.99999926 0.99999928 0.99999948 0.99999926 0.99999931]\n",
            "0.9999993176899231\n",
            "For Angles:\n",
            "[0.99999997 0.99999997 0.99999999 0.99999998 0.99999999 0.99999998\n",
            " 1.         0.99999996 0.99999998 0.99999999 1.         1.\n",
            " 1.         1.         0.99999999 1.         0.99999997 1.\n",
            " 0.99999997 1.         0.99999999 0.99999998 0.99999999 0.99999999\n",
            " 0.99999999 0.99999999 1.         0.99999999 1.        ]\n",
            "0.9999999877241363\n"
          ],
          "name": "stdout"
        }
      ]
    },
    {
      "cell_type": "markdown",
      "metadata": {
        "id": "N2XqNrzY6PpW"
      },
      "source": [
        "insert in Pg without slack"
      ]
    },
    {
      "cell_type": "code",
      "metadata": {
        "colab": {
          "base_uri": "https://localhost:8080/"
        },
        "id": "E-6dzLFTVp5t",
        "outputId": "38f9709d-2477-4b61-b5f5-e324591f4b15"
      },
      "source": [
        " def GettingSlackPG(PG_predicted_ws, PD_test_unNormalized):\n",
        "  import pandas as pd\n",
        "  PG_predicted_ws = pd.DataFrame(PG_predicted_ws.copy())\n",
        "  PD_test_unNormalized=pd.DataFrame(PD_test_unNormalized.copy())\n",
        "  PD_test_unNormalized[\"Total D\"] = PD_test_unNormalized.sum(axis=1)\n",
        "  PG_predicted_ws[\"Total G\"] = PG_predicted_ws.sum(axis=1)\n",
        "  print(PD_test_unNormalized)\n",
        "  print(PG_predicted_ws)\n",
        "  #for column in PD_test_unNormalized[['Total D']]:\n",
        "  #for column in PG_predicted_ws[['Total G']]:\n",
        "  slack_generation=PD_test_unNormalized[\"Total D\"] - PG_predicted_ws[\"Total G\"]\n",
        "  print(slack_generation)\n",
        "  return slack_generation, PG_predicted_ws\n",
        "\n",
        "slack_generation,PG_predicted_ws=GettingSlackPG(PG_predicted_ws, PD_test_unNormalized)\n",
        "\n"
      ],
      "execution_count": null,
      "outputs": [
        {
          "output_type": "stream",
          "text": [
            "              0         1         2    3  ...   26        27         28     Total D\n",
            "0     20.361337  2.243246  7.615190  0.0  ...  0.0  2.588622   9.919785  191.076614\n",
            "1     21.780447  2.514907  7.671214  0.0  ...  0.0  2.558370   9.881597  183.311624\n",
            "2     20.177372  2.518244  7.386829  0.0  ...  0.0  2.214616  10.407245  183.523142\n",
            "3     22.339288  2.412296  7.323495  0.0  ...  0.0  2.276543   9.730261  190.535711\n",
            "4     19.569104  2.475544  8.088795  0.0  ...  0.0  2.286665   9.752798  188.794310\n",
            "...         ...       ...       ...  ...  ...  ...       ...        ...         ...\n",
            "5995  23.433518  2.390882  7.928629  0.0  ...  0.0  2.408992   9.677816  185.764616\n",
            "5996  22.880542  2.351072  8.137881  0.0  ...  0.0  2.419977  10.850851  193.076220\n",
            "5997  22.465675  2.379904  7.166897  0.0  ...  0.0  2.605899   9.663107  191.059984\n",
            "5998  22.855952  2.337595  7.195315  0.0  ...  0.0  2.521408  10.775091  187.038860\n",
            "5999  20.225835  2.314832  7.246958  0.0  ...  0.0  2.502674  10.175829  185.749620\n",
            "\n",
            "[6000 rows x 30 columns]\n",
            "              0          1          2          3          4     Total G\n",
            "0     58.567200  22.415165  33.013878  16.012819  16.021479  146.030548\n",
            "1     57.194839  22.030704  30.130928  15.053440  15.059727  139.469635\n",
            "2     57.236217  22.040413  30.211750  15.080570  15.086032  139.654968\n",
            "3     58.471851  22.388163  32.812920  15.946755  15.956442  145.576126\n",
            "4     58.164429  22.301970  32.169102  15.731070  15.740003  144.106567\n",
            "...         ...        ...        ...        ...        ...         ...\n",
            "5995  57.632317  22.151636  31.045935  15.356520  15.361944  141.548355\n",
            "5996  58.921783  22.516069  33.764889  16.262693  16.270905  147.736343\n",
            "5997  58.562363  22.414860  33.008244  16.010962  16.020479  146.016891\n",
            "5998  57.861137  22.213428  31.518250  15.513917  15.519237  142.625977\n",
            "5999  57.632767  22.150402  31.040812  15.354616  15.359110  141.537704\n",
            "\n",
            "[6000 rows x 6 columns]\n",
            "0       45.046066\n",
            "1       43.841989\n",
            "2       43.868173\n",
            "3       44.959585\n",
            "4       44.687742\n",
            "          ...    \n",
            "5995    44.216261\n",
            "5996    45.339877\n",
            "5997    45.043092\n",
            "5998    44.412883\n",
            "5999    44.211916\n",
            "Length: 6000, dtype: float64\n"
          ],
          "name": "stdout"
        }
      ]
    },
    {
      "cell_type": "code",
      "metadata": {
        "colab": {
          "base_uri": "https://localhost:8080/"
        },
        "id": "XWxBj0yqvN25",
        "outputId": "ea7f895a-114e-40c3-c6f4-3e702437c974"
      },
      "source": [
        " def GettingSlackPG2(PG_predicted_ws, PD_test_unNormalized):\n",
        "  import pandas as pd\n",
        "  PG_predicted_ws = pd.DataFrame(PG_predicted_ws.copy())\n",
        "  PD_test_unNormalized=pd.DataFrame(PD_test_unNormalized.copy())\n",
        "  PD_test_unNormalized[\"Total D\"] = PD_test_unNormalized.sum(axis=1)\n",
        "  PG_predicted_ws[\"Total G\"] = PG_predicted_ws.sum(axis=1)\n",
        "  print(PD_test_unNormalized)\n",
        "  print(PG_predicted_ws)\n",
        "  #for column in PD_test_unNormalized[['Total D']]:\n",
        "  #for column in PG_predicted_ws[['Total G']]:\n",
        "  slack_generation=PD_test_unNormalized[\"Total D\"] - PG_predicted_ws[\"Total G\"]\n",
        "  print(slack_generation)\n",
        "  return slack_generation, PG_predicted_ws\n",
        "\n",
        "\n",
        "slack_generation2,PG_actual_ws=GettingSlackPG2(PG_actual_ws, PD_test_unNormalized)"
      ],
      "execution_count": null,
      "outputs": [
        {
          "output_type": "stream",
          "text": [
            "              0         1         2    3  ...   26        27         28     Total D\n",
            "0     20.361337  2.243246  7.615190  0.0  ...  0.0  2.588622   9.919785  191.076614\n",
            "1     21.780447  2.514907  7.671214  0.0  ...  0.0  2.558370   9.881597  183.311624\n",
            "2     20.177372  2.518244  7.386829  0.0  ...  0.0  2.214616  10.407245  183.523142\n",
            "3     22.339288  2.412296  7.323495  0.0  ...  0.0  2.276543   9.730261  190.535711\n",
            "4     19.569104  2.475544  8.088795  0.0  ...  0.0  2.286665   9.752798  188.794310\n",
            "...         ...       ...       ...  ...  ...  ...       ...        ...         ...\n",
            "5995  23.433518  2.390882  7.928629  0.0  ...  0.0  2.408992   9.677816  185.764616\n",
            "5996  22.880542  2.351072  8.137881  0.0  ...  0.0  2.419977  10.850851  193.076220\n",
            "5997  22.465675  2.379904  7.166897  0.0  ...  0.0  2.605899   9.663107  191.059984\n",
            "5998  22.855952  2.337595  7.195315  0.0  ...  0.0  2.521408  10.775091  187.038860\n",
            "5999  20.225835  2.314832  7.246958  0.0  ...  0.0  2.502674  10.175829  185.749620\n",
            "\n",
            "[6000 rows x 30 columns]\n",
            "              0          1          2          3          4     Total G\n",
            "0     58.594700  22.406515  33.022453  16.016291  16.016291  146.056259\n",
            "1     57.221176  22.021929  30.140352  15.054821  15.054822  139.493103\n",
            "2     57.258587  22.032406  30.218861  15.081012  15.081013  139.671875\n",
            "3     58.499023  22.379726  32.821686  15.949316  15.949315  145.599060\n",
            "4     58.190990  22.293476  32.175339  15.733693  15.733692  144.127182\n",
            "...         ...        ...        ...        ...        ...         ...\n",
            "5995  57.655075  22.143421  31.050819  15.358554  15.358553  141.566422\n",
            "5996  58.948406  22.505552  33.764637  16.263884  16.263884  147.746368\n",
            "5997  58.591759  22.405693  33.016281  16.014231  16.014231  146.042206\n",
            "5998  57.880474  22.206533  31.523777  15.516333  15.516331  142.643448\n",
            "5999  57.652428  22.142679  31.045254  15.356696  15.356697  141.553757\n",
            "\n",
            "[6000 rows x 6 columns]\n",
            "0       45.020355\n",
            "1       43.818521\n",
            "2       43.851267\n",
            "3       44.936651\n",
            "4       44.667128\n",
            "          ...    \n",
            "5995    44.198195\n",
            "5996    45.329852\n",
            "5997    45.017778\n",
            "5998    44.395412\n",
            "5999    44.195864\n",
            "Length: 6000, dtype: float64\n"
          ],
          "name": "stdout"
        }
      ]
    },
    {
      "cell_type": "code",
      "metadata": {
        "colab": {
          "base_uri": "https://localhost:8080/"
        },
        "id": "DlbftilOVr5Y",
        "outputId": "2937899a-6db3-414e-b389-9a98abeac048"
      },
      "source": [
        "def AddingSlackToPG(PG_predicted_ws,slack_generation, slack_adapted,slack,ppc):\n",
        "  #print(PG_predicted_ws)\n",
        "  PG_predicted_ws.insert(slack_adapted,str(slack),slack_generation)\n",
        "  #print(PG_predicted_ws)\n",
        "  PG_predicted_ws = PG_predicted_ws.drop([\"Total G\"], axis=1)\n",
        "  #print(PG_predicted_ws)\n",
        "  columnnames= []\n",
        "  for row in ppc[\"gen\"]:\n",
        "    columnnames.append(row[0])\n",
        "  PredictedPG_WithSlack = pd.DataFrame(PG_predicted_ws.to_numpy(), columns=columnnames)\n",
        "  #print(Predicted_WithSlack)\n",
        "  return PredictedPG_WithSlack\n",
        "\n",
        "PredictedPG_WithSlack=AddingSlackToPG(PG_predicted_ws,slack_generation,slack_adapted,slack,ppc)\n",
        "\n",
        "print(PredictedPG_WithSlack)\n"
      ],
      "execution_count": null,
      "outputs": [
        {
          "output_type": "stream",
          "text": [
            "           0.0        1.0        12.0       21.0       22.0       26.0\n",
            "0     45.046066  58.567200  22.415165  33.013878  16.012819  16.021479\n",
            "1     43.841989  57.194839  22.030704  30.130928  15.053440  15.059727\n",
            "2     43.868173  57.236217  22.040413  30.211750  15.080570  15.086032\n",
            "3     44.959585  58.471851  22.388163  32.812920  15.946755  15.956442\n",
            "4     44.687742  58.164429  22.301970  32.169102  15.731070  15.740003\n",
            "...         ...        ...        ...        ...        ...        ...\n",
            "5995  44.216261  57.632317  22.151636  31.045935  15.356520  15.361944\n",
            "5996  45.339877  58.921783  22.516069  33.764889  16.262693  16.270905\n",
            "5997  45.043092  58.562363  22.414860  33.008244  16.010962  16.020479\n",
            "5998  44.412883  57.861137  22.213428  31.518250  15.513917  15.519237\n",
            "5999  44.211916  57.632767  22.150402  31.040812  15.354616  15.359110\n",
            "\n",
            "[6000 rows x 6 columns]\n"
          ],
          "name": "stdout"
        }
      ]
    },
    {
      "cell_type": "code",
      "metadata": {
        "colab": {
          "base_uri": "https://localhost:8080/"
        },
        "id": "L-i8FLirvE6b",
        "outputId": "598c5878-d439-47c4-838b-b6e7382334f4"
      },
      "source": [
        "def AddingSlackToPG2(PG_predicted_ws,slack_generation, slack_adapted,slack,ppc):\n",
        "  #print(PG_predicted_ws)\n",
        "  PG_predicted_ws.insert(slack_adapted,str(slack),slack_generation)\n",
        "  #print(PG_predicted_ws)\n",
        "  PG_predicted_ws = PG_predicted_ws.drop([\"Total G\"], axis=1)\n",
        "  #print(PG_predicted_ws)\n",
        "  columnnames= []\n",
        "  for row in ppc[\"gen\"]:\n",
        "    columnnames.append(row[0])\n",
        "  PredictedPG_WithSlack = pd.DataFrame(PG_predicted_ws.to_numpy(), columns=columnnames)\n",
        "  #print(Predicted_WithSlack)\n",
        "  return PredictedPG_WithSlack\n",
        "\n",
        "ActualPG_WithSlack=AddingSlackToPG2(PG_actual_ws,slack_generation2,slack_adapted,slack,ppc)\n",
        "print(PredictedPG_WithSlack)\n",
        "print(ActualPG_WithSlack)"
      ],
      "execution_count": null,
      "outputs": [
        {
          "output_type": "stream",
          "text": [
            "           0.0        1.0        12.0       21.0       22.0       26.0\n",
            "0     45.046066  58.567200  22.415165  33.013878  16.012819  16.021479\n",
            "1     43.841989  57.194839  22.030704  30.130928  15.053440  15.059727\n",
            "2     43.868173  57.236217  22.040413  30.211750  15.080570  15.086032\n",
            "3     44.959585  58.471851  22.388163  32.812920  15.946755  15.956442\n",
            "4     44.687742  58.164429  22.301970  32.169102  15.731070  15.740003\n",
            "...         ...        ...        ...        ...        ...        ...\n",
            "5995  44.216261  57.632317  22.151636  31.045935  15.356520  15.361944\n",
            "5996  45.339877  58.921783  22.516069  33.764889  16.262693  16.270905\n",
            "5997  45.043092  58.562363  22.414860  33.008244  16.010962  16.020479\n",
            "5998  44.412883  57.861137  22.213428  31.518250  15.513917  15.519237\n",
            "5999  44.211916  57.632767  22.150402  31.040812  15.354616  15.359110\n",
            "\n",
            "[6000 rows x 6 columns]\n",
            "           0.0        1.0        12.0       21.0       22.0       26.0\n",
            "0     45.020355  58.594700  22.406515  33.022453  16.016291  16.016291\n",
            "1     43.818521  57.221176  22.021929  30.140352  15.054821  15.054822\n",
            "2     43.851267  57.258587  22.032406  30.218861  15.081012  15.081013\n",
            "3     44.936651  58.499023  22.379726  32.821686  15.949316  15.949315\n",
            "4     44.667128  58.190990  22.293476  32.175339  15.733693  15.733692\n",
            "...         ...        ...        ...        ...        ...        ...\n",
            "5995  44.198195  57.655075  22.143421  31.050819  15.358554  15.358553\n",
            "5996  45.329852  58.948406  22.505552  33.764637  16.263884  16.263884\n",
            "5997  45.017778  58.591759  22.405693  33.016281  16.014231  16.014231\n",
            "5998  44.395412  57.880474  22.206533  31.523777  15.516333  15.516331\n",
            "5999  44.195864  57.652428  22.142679  31.045254  15.356696  15.356697\n",
            "\n",
            "[6000 rows x 6 columns]\n"
          ],
          "name": "stdout"
        }
      ]
    },
    {
      "cell_type": "code",
      "metadata": {
        "colab": {
          "base_uri": "https://localhost:8080/"
        },
        "id": "affcZbJrVtmn",
        "outputId": "789b237d-12b5-495b-f56d-67d96ac86752"
      },
      "source": [
        "def AddingSlacktoAngles(predictionAngles, slack_adapted, slack,ppc):\n",
        "  predictionAngles = pd.DataFrame(predictionAngles)\n",
        "  slackdf = pd.DataFrame(0, index=range(len(predictionAngles)), columns=[str(slack)])\n",
        "  predictionAngles.insert(slack_adapted,str(slack),slackdf)\n",
        "  columnnames= []\n",
        "  for row in ppc[\"bus\"]:\n",
        "    columnnames.append(row[0])\n",
        "  PredictedAngles_WithSlack = pd.DataFrame(predictionAngles.to_numpy(), columns=columnnames)\n",
        "  return PredictedAngles_WithSlack \n",
        "\n",
        "PredictedAngles_WithSlack=AddingSlacktoAngles(angles_predicted,slack_adapted,slack,ppc)\n",
        "ActualAngles_WithSlack=AddingSlacktoAngles(angles_actual,slack_adapted,slack,ppc)\n",
        "print(PredictedAngles_WithSlack)\n",
        "print(ActualAngles_WithSlack)"
      ],
      "execution_count": null,
      "outputs": [
        {
          "output_type": "stream",
          "text": [
            "      0.0       1.0       2.0   ...      27.0       28.0       29.0\n",
            "0      0.0 -0.881684 -2.111804  ... -4.760627 -10.575032 -11.428269\n",
            "1      0.0 -0.861864 -2.043490  ... -4.547956 -10.274039 -11.125485\n",
            "2      0.0 -0.853640 -2.072381  ... -4.614492 -10.480622 -11.412709\n",
            "3      0.0 -0.894024 -2.063313  ... -4.684382 -10.322383 -11.178665\n",
            "4      0.0 -0.861770 -2.135858  ... -4.737419 -10.542760 -11.400667\n",
            "...    ...       ...       ...  ...       ...        ...        ...\n",
            "5995   0.0 -0.882040 -2.020344  ... -4.536018 -10.160027 -11.001032\n",
            "5996   0.0 -0.899807 -2.086400  ... -4.731382 -10.751744 -11.715387\n",
            "5997   0.0 -0.893429 -2.074286  ... -4.697387 -10.424119 -11.249070\n",
            "5998   0.0 -0.883915 -2.035812  ... -4.635184 -10.592493 -11.540691\n",
            "5999   0.0 -0.863465 -2.078692  ... -4.677532 -10.485731 -11.372244\n",
            "\n",
            "[6000 rows x 30 columns]\n",
            "      0.0       1.0       2.0   ...      27.0       28.0       29.0\n",
            "0      0.0 -0.880890 -2.111521  ... -4.760084 -10.574489 -11.427726\n",
            "1      0.0 -0.861135 -2.043244  ... -4.547473 -10.273555 -11.125001\n",
            "2      0.0 -0.853088 -2.072290  ... -4.614216 -10.480345 -11.412431\n",
            "3      0.0 -0.893300 -2.063110  ... -4.683973 -10.321971 -11.178252\n",
            "4      0.0 -0.861097 -2.135743  ... -4.737090 -10.542430 -11.400337\n",
            "...    ...       ...       ...  ...       ...        ...        ...\n",
            "5995   0.0 -0.881449 -2.020248  ... -4.535687 -10.159698 -11.000703\n",
            "5996   0.0 -0.899359 -2.086727  ... -4.731503 -10.751870 -11.715512\n",
            "5997   0.0 -0.892630 -2.074063  ... -4.696910 -10.423641 -11.248592\n",
            "5998   0.0 -0.883365 -2.035651  ... -4.634814 -10.592125 -11.540323\n",
            "5999   0.0 -0.862940 -2.078606  ... -4.677217 -10.485421 -11.371934\n",
            "\n",
            "[6000 rows x 30 columns]\n"
          ],
          "name": "stdout"
        }
      ]
    },
    {
      "cell_type": "code",
      "metadata": {
        "id": "jDRIFXvLvsiK",
        "colab": {
          "base_uri": "https://localhost:8080/",
          "height": 354
        },
        "outputId": "5c1db8b0-a07e-4780-e85b-22fd9a45c625"
      },
      "source": [
        "def AddingSlacktoAngles2(predictionAngles, slack_adapted, slack,ppc):\n",
        "  predictionAngles = pd.DataFrame(predictionAngles)\n",
        "  slackdf = pd.DataFrame(0, index=range(len(predictionAngles)), columns=[str(slack)])\n",
        "  predictionAngles.insert(slack_adapted,str(slack),slackdf)\n",
        "  columnnames= []\n",
        "  for row in ppc[\"bus\"]:\n",
        "    columnnames.append(row[0])\n",
        "  PredictedAngles_WithSlack = pd.DataFrame(predictionAngles.to_numpy(), columns=columnnames)\n",
        "  return PredictedAngles_WithSlack \n",
        "\n",
        "ActualAngles_WithSlack=AddingSlacktoAngles2(angles_actual,slack_adapted,slack,ppc)\n",
        "print(ActualAngles_WithSlac)"
      ],
      "execution_count": null,
      "outputs": [
        {
          "output_type": "error",
          "ename": "ValueError",
          "evalue": "ignored",
          "traceback": [
            "\u001b[0;31m---------------------------------------------------------------------------\u001b[0m",
            "\u001b[0;31mValueError\u001b[0m                                Traceback (most recent call last)",
            "\u001b[0;32m<ipython-input-45-3ed859dbc28d>\u001b[0m in \u001b[0;36m<module>\u001b[0;34m()\u001b[0m\n\u001b[1;32m      9\u001b[0m   \u001b[0;32mreturn\u001b[0m \u001b[0mPredictedAngles_WithSlack\u001b[0m\u001b[0;34m\u001b[0m\u001b[0;34m\u001b[0m\u001b[0m\n\u001b[1;32m     10\u001b[0m \u001b[0;34m\u001b[0m\u001b[0m\n\u001b[0;32m---> 11\u001b[0;31m \u001b[0mActualAngles_WithSlack\u001b[0m\u001b[0;34m=\u001b[0m\u001b[0mAddingSlacktoAngles2\u001b[0m\u001b[0;34m(\u001b[0m\u001b[0mangles_actual\u001b[0m\u001b[0;34m,\u001b[0m\u001b[0mslack_adapted\u001b[0m\u001b[0;34m,\u001b[0m\u001b[0mslack\u001b[0m\u001b[0;34m,\u001b[0m\u001b[0mppc\u001b[0m\u001b[0;34m)\u001b[0m\u001b[0;34m\u001b[0m\u001b[0;34m\u001b[0m\u001b[0m\n\u001b[0m\u001b[1;32m     12\u001b[0m \u001b[0mprint\u001b[0m\u001b[0;34m(\u001b[0m\u001b[0mActualAngles_WithSlac\u001b[0m\u001b[0;34m)\u001b[0m\u001b[0;34m\u001b[0m\u001b[0;34m\u001b[0m\u001b[0m\n",
            "\u001b[0;32m<ipython-input-45-3ed859dbc28d>\u001b[0m in \u001b[0;36mAddingSlacktoAngles2\u001b[0;34m(predictionAngles, slack_adapted, slack, ppc)\u001b[0m\n\u001b[1;32m      2\u001b[0m   \u001b[0mpredictionAngles\u001b[0m \u001b[0;34m=\u001b[0m \u001b[0mpd\u001b[0m\u001b[0;34m.\u001b[0m\u001b[0mDataFrame\u001b[0m\u001b[0;34m(\u001b[0m\u001b[0mpredictionAngles\u001b[0m\u001b[0;34m)\u001b[0m\u001b[0;34m\u001b[0m\u001b[0;34m\u001b[0m\u001b[0m\n\u001b[1;32m      3\u001b[0m   \u001b[0mslackdf\u001b[0m \u001b[0;34m=\u001b[0m \u001b[0mpd\u001b[0m\u001b[0;34m.\u001b[0m\u001b[0mDataFrame\u001b[0m\u001b[0;34m(\u001b[0m\u001b[0;36m0\u001b[0m\u001b[0;34m,\u001b[0m \u001b[0mindex\u001b[0m\u001b[0;34m=\u001b[0m\u001b[0mrange\u001b[0m\u001b[0;34m(\u001b[0m\u001b[0mlen\u001b[0m\u001b[0;34m(\u001b[0m\u001b[0mpredictionAngles\u001b[0m\u001b[0;34m)\u001b[0m\u001b[0;34m)\u001b[0m\u001b[0;34m,\u001b[0m \u001b[0mcolumns\u001b[0m\u001b[0;34m=\u001b[0m\u001b[0;34m[\u001b[0m\u001b[0mstr\u001b[0m\u001b[0;34m(\u001b[0m\u001b[0mslack\u001b[0m\u001b[0;34m)\u001b[0m\u001b[0;34m]\u001b[0m\u001b[0;34m)\u001b[0m\u001b[0;34m\u001b[0m\u001b[0;34m\u001b[0m\u001b[0m\n\u001b[0;32m----> 4\u001b[0;31m   \u001b[0mpredictionAngles\u001b[0m\u001b[0;34m.\u001b[0m\u001b[0minsert\u001b[0m\u001b[0;34m(\u001b[0m\u001b[0mslack_adapted\u001b[0m\u001b[0;34m,\u001b[0m\u001b[0mstr\u001b[0m\u001b[0;34m(\u001b[0m\u001b[0mslack\u001b[0m\u001b[0;34m)\u001b[0m\u001b[0;34m,\u001b[0m\u001b[0mslackdf\u001b[0m\u001b[0;34m)\u001b[0m\u001b[0;34m\u001b[0m\u001b[0;34m\u001b[0m\u001b[0m\n\u001b[0m\u001b[1;32m      5\u001b[0m   \u001b[0mcolumnnames\u001b[0m\u001b[0;34m=\u001b[0m \u001b[0;34m[\u001b[0m\u001b[0;34m]\u001b[0m\u001b[0;34m\u001b[0m\u001b[0;34m\u001b[0m\u001b[0m\n\u001b[1;32m      6\u001b[0m   \u001b[0;32mfor\u001b[0m \u001b[0mrow\u001b[0m \u001b[0;32min\u001b[0m \u001b[0mppc\u001b[0m\u001b[0;34m[\u001b[0m\u001b[0;34m\"bus\"\u001b[0m\u001b[0;34m]\u001b[0m\u001b[0;34m:\u001b[0m\u001b[0;34m\u001b[0m\u001b[0;34m\u001b[0m\u001b[0m\n",
            "\u001b[0;32m/usr/local/lib/python3.7/dist-packages/pandas/core/frame.py\u001b[0m in \u001b[0;36minsert\u001b[0;34m(self, loc, column, value, allow_duplicates)\u001b[0m\n\u001b[1;32m   3626\u001b[0m         \u001b[0mself\u001b[0m\u001b[0;34m.\u001b[0m\u001b[0m_ensure_valid_index\u001b[0m\u001b[0;34m(\u001b[0m\u001b[0mvalue\u001b[0m\u001b[0;34m)\u001b[0m\u001b[0;34m\u001b[0m\u001b[0;34m\u001b[0m\u001b[0m\n\u001b[1;32m   3627\u001b[0m         \u001b[0mvalue\u001b[0m \u001b[0;34m=\u001b[0m \u001b[0mself\u001b[0m\u001b[0;34m.\u001b[0m\u001b[0m_sanitize_column\u001b[0m\u001b[0;34m(\u001b[0m\u001b[0mcolumn\u001b[0m\u001b[0;34m,\u001b[0m \u001b[0mvalue\u001b[0m\u001b[0;34m,\u001b[0m \u001b[0mbroadcast\u001b[0m\u001b[0;34m=\u001b[0m\u001b[0;32mFalse\u001b[0m\u001b[0;34m)\u001b[0m\u001b[0;34m\u001b[0m\u001b[0;34m\u001b[0m\u001b[0m\n\u001b[0;32m-> 3628\u001b[0;31m         \u001b[0mself\u001b[0m\u001b[0;34m.\u001b[0m\u001b[0m_mgr\u001b[0m\u001b[0;34m.\u001b[0m\u001b[0minsert\u001b[0m\u001b[0;34m(\u001b[0m\u001b[0mloc\u001b[0m\u001b[0;34m,\u001b[0m \u001b[0mcolumn\u001b[0m\u001b[0;34m,\u001b[0m \u001b[0mvalue\u001b[0m\u001b[0;34m,\u001b[0m \u001b[0mallow_duplicates\u001b[0m\u001b[0;34m=\u001b[0m\u001b[0mallow_duplicates\u001b[0m\u001b[0;34m)\u001b[0m\u001b[0;34m\u001b[0m\u001b[0;34m\u001b[0m\u001b[0m\n\u001b[0m\u001b[1;32m   3629\u001b[0m \u001b[0;34m\u001b[0m\u001b[0m\n\u001b[1;32m   3630\u001b[0m     \u001b[0;32mdef\u001b[0m \u001b[0massign\u001b[0m\u001b[0;34m(\u001b[0m\u001b[0mself\u001b[0m\u001b[0;34m,\u001b[0m \u001b[0;34m**\u001b[0m\u001b[0mkwargs\u001b[0m\u001b[0;34m)\u001b[0m \u001b[0;34m->\u001b[0m \u001b[0;34m\"DataFrame\"\u001b[0m\u001b[0;34m:\u001b[0m\u001b[0;34m\u001b[0m\u001b[0;34m\u001b[0m\u001b[0m\n",
            "\u001b[0;32m/usr/local/lib/python3.7/dist-packages/pandas/core/internals/managers.py\u001b[0m in \u001b[0;36minsert\u001b[0;34m(self, loc, item, value, allow_duplicates)\u001b[0m\n\u001b[1;32m   1184\u001b[0m         \u001b[0;32mif\u001b[0m \u001b[0;32mnot\u001b[0m \u001b[0mallow_duplicates\u001b[0m \u001b[0;32mand\u001b[0m \u001b[0mitem\u001b[0m \u001b[0;32min\u001b[0m \u001b[0mself\u001b[0m\u001b[0;34m.\u001b[0m\u001b[0mitems\u001b[0m\u001b[0;34m:\u001b[0m\u001b[0;34m\u001b[0m\u001b[0;34m\u001b[0m\u001b[0m\n\u001b[1;32m   1185\u001b[0m             \u001b[0;31m# Should this be a different kind of error??\u001b[0m\u001b[0;34m\u001b[0m\u001b[0;34m\u001b[0m\u001b[0;34m\u001b[0m\u001b[0m\n\u001b[0;32m-> 1186\u001b[0;31m             \u001b[0;32mraise\u001b[0m \u001b[0mValueError\u001b[0m\u001b[0;34m(\u001b[0m\u001b[0;34mf\"cannot insert {item}, already exists\"\u001b[0m\u001b[0;34m)\u001b[0m\u001b[0;34m\u001b[0m\u001b[0;34m\u001b[0m\u001b[0m\n\u001b[0m\u001b[1;32m   1187\u001b[0m \u001b[0;34m\u001b[0m\u001b[0m\n\u001b[1;32m   1188\u001b[0m         \u001b[0;32mif\u001b[0m \u001b[0;32mnot\u001b[0m \u001b[0misinstance\u001b[0m\u001b[0;34m(\u001b[0m\u001b[0mloc\u001b[0m\u001b[0;34m,\u001b[0m \u001b[0mint\u001b[0m\u001b[0;34m)\u001b[0m\u001b[0;34m:\u001b[0m\u001b[0;34m\u001b[0m\u001b[0;34m\u001b[0m\u001b[0m\n",
            "\u001b[0;31mValueError\u001b[0m: cannot insert 1.0, already exists"
          ]
        }
      ]
    },
    {
      "cell_type": "code",
      "metadata": {
        "colab": {
          "base_uri": "https://localhost:8080/"
        },
        "id": "8qkV4E2PVwHU",
        "outputId": "2a68cd6e-c2f9-4757-d48d-464b04446097"
      },
      "source": [
        "def GenerationCost(PG,ppc):\n",
        "  PGCost = PG.copy()\n",
        "  PGCost = PGCost.to_numpy()\n",
        "  for col in range(PGCost.shape[1]):\n",
        "    PGCost[:,col] = ((PGCost[:,col])  * (PGCost[:,col]) * ppc[\"gencost\"][col][4] )+ PGCost[:,col] *  ppc[\"gencost\"][col][5] + ppc[\"gencost\"][col][6]\n",
        "  PGCost= pd.DataFrame(PGCost)\n",
        "  PGCost[\"Total Cost\"] = PGCost.sum(axis=1)\n",
        "  PGCostAvg = PGCost[\"Total Cost\"].mean()\n",
        "  return PGCost, PGCostAvg\n",
        "\n",
        "PGCost, PGCostAvg= GenerationCost(PredictedPG_WithSlack,ppc)\n",
        "print(\"The cost of each prediction is\")\n",
        "print(PGCost)\n",
        "print(\"The average cost of the predictions is:\")\n",
        "print(PGCostAvg)"
      ],
      "execution_count": null,
      "outputs": [
        {
          "output_type": "stream",
          "text": [
            "The cost of each prediction is\n",
            "               0           1          2  ...          4          5  Total Cost\n",
            "0     130.675094  162.519645  79.806485  ...  54.448717  54.210582  582.794159\n",
            "1     126.126380  157.337838  78.225912  ...  50.825472  50.835585  550.224166\n",
            "2     126.224680  157.493111  78.265734  ...  50.927301  50.927691  551.097131\n",
            "3     130.346457  162.157494  79.695233  ...  54.197741  53.981867  580.484694\n",
            "4     129.315371  160.992014  79.340355  ...  53.379872  53.221224  573.096132\n",
            "...          ...         ...        ...  ...        ...        ...         ...\n",
            "5995  127.534077  158.982523  78.722283  ...  51.965127  51.894470  560.385042\n",
            "5996  131.793843  163.869211  80.222543  ...  55.399960  55.088391  591.393069\n",
            "5997  130.663788  162.501265  79.805228  ...  54.441657  54.207066  582.723757\n",
            "5998  128.275850  159.845437  78.976196  ...  52.558791  52.446180  565.708207\n",
            "5999  127.517702  158.984218  78.717214  ...  51.957954  51.884532  560.323181\n",
            "\n",
            "[6000 rows x 7 columns]\n",
            "The average cost of the predictions is:\n",
            "574.9541304679304\n"
          ],
          "name": "stdout"
        }
      ]
    },
    {
      "cell_type": "code",
      "metadata": {
        "colab": {
          "base_uri": "https://localhost:8080/"
        },
        "id": "jDUqaBnweFCM",
        "outputId": "cda715f5-ced3-406c-b897-9a6ec92cf605"
      },
      "source": [
        "PGCost2, PGCostAvg2= GenerationCost(ActualPG_WithSlack,ppc)\n",
        "print(\"The cost of each actual PG is\")\n",
        "print(PGCost2)\n",
        "print(\"The average cost of the actual PG is:\")\n",
        "print(PGCostAvg2)"
      ],
      "execution_count": null,
      "outputs": [
        {
          "output_type": "stream",
          "text": [
            "The cost of each actual PG is\n",
            "               0           1          2  ...          4          5  Total Cost\n",
            "0     130.577357  162.624155  79.770843  ...  54.461911  54.192335  582.804206\n",
            "1     126.038299  157.436661  78.189920  ...  50.830654  50.818413  550.231851\n",
            "2     126.161205  157.577078  78.232890  ...  50.928958  50.910115  551.102829\n",
            "3     130.259355  162.260667  79.660483  ...  54.207465  53.956809  580.495406\n",
            "4     129.237302  161.092582  79.305405  ...  53.389807  53.199059  573.102770\n",
            "...          ...         ...        ...  ...        ...        ...         ...\n",
            "5995  127.465998  159.068266  78.688541  ...  51.972791  51.882579  560.388581\n",
            "5996  131.755614  163.970716  80.179154  ...  55.404499  55.063668  591.391457\n",
            "5997  130.567563  162.612976  79.767456  ...  54.454082  54.185089  582.733124\n",
            "5998  128.209876  159.918442  78.947853  ...  52.567912  52.435984  565.713127\n",
            "5999  127.457214  159.058291  78.685494  ...  51.965791  51.876072  560.326102\n",
            "\n",
            "[6000 rows x 7 columns]\n",
            "The average cost of the actual PG is:\n",
            "574.9606616797282\n"
          ],
          "name": "stdout"
        }
      ]
    },
    {
      "cell_type": "markdown",
      "metadata": {
        "id": "1_g3G9DPAlya"
      },
      "source": [
        "Checking for first PGi constraint violations"
      ]
    },
    {
      "cell_type": "code",
      "metadata": {
        "id": "KH1AwOHuAo96"
      },
      "source": [
        ""
      ],
      "execution_count": null,
      "outputs": []
    },
    {
      "cell_type": "markdown",
      "metadata": {
        "id": "peUO3vqtBXTI"
      },
      "source": [
        "Checking for second Thetha constraint violation "
      ]
    },
    {
      "cell_type": "code",
      "metadata": {
        "id": "pGUYF_4UCBai"
      },
      "source": [
        ""
      ],
      "execution_count": null,
      "outputs": []
    }
  ]
}